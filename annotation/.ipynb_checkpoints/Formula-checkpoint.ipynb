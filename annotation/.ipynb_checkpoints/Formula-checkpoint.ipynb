{
 "cells": [
  {
   "cell_type": "markdown",
   "id": "3cfd47f1-49e0-4833-86f4-89d1df215bde",
   "metadata": {},
   "source": [
    "将术语A的语义值定义为DAGA中所有术语对术语A语义的总贡献，DAGA中更接近术语A的术语对其语义的贡献更大\n",
    "\n",
    "GO的里面的relationship:'is a', 'part of',可以计算得到相应的语义贡献因子"
   ]
  },
  {
   "cell_type": "markdown",
   "id": "f10947c4-9091-4af0-b673-9d3af32a57fe",
   "metadata": {},
   "source": [
    "![Wang01](./data/image/wang01.png)"
   ]
  },
  {
   "cell_type": "markdown",
   "id": "db662996-f1c8-4926-b4f6-9f6c2ac7f0de",
   "metadata": {},
   "source": [
    "we是term t' 对于term t的语义贡献因子,范围 (0,1)"
   ]
  },
  {
   "cell_type": "markdown",
   "id": "ef9a89fc-4896-4878-bbec-c9a335a4e0dc",
   "metadata": {},
   "source": [
    "![Wang02](./data/image/wang02.png)"
   ]
  },
  {
   "cell_type": "markdown",
   "id": "bb16df6f-589e-4e93-9e40-360c3129c23e",
   "metadata": {},
   "source": [
    "SV(A)指GO term A的语义值, 是TA term集合的所有S值之和"
   ]
  },
  {
   "cell_type": "markdown",
   "id": "be789029-fa23-4db0-970c-f10230fcd6b4",
   "metadata": {},
   "source": [
    "![Wang03](./data/image/wang03.png)"
   ]
  },
  {
   "cell_type": "markdown",
   "id": "9647cd20-60c4-45da-8e22-029ed4a52c86",
   "metadata": {},
   "source": [
    "GO terms A and B对应有向无环图DAG A,DAG B,分别计算得到S,SV值,通过公式可以计算得到simWang(A,B)"
   ]
  },
  {
   "cell_type": "markdown",
   "id": "c7815eab-d22d-4053-9100-15c1e9a44312",
   "metadata": {},
   "source": [
    "通过这样的计算可以得到term A与term B之间的GO 语义相似性"
   ]
  },
  {
   "cell_type": "markdown",
   "id": "cbe6de55-02dc-415c-b48f-bec33641ec8c",
   "metadata": {},
   "source": [
    "![Wang04](./data/image/wang04.png)"
   ]
  },
  {
   "cell_type": "markdown",
   "id": "43698664-6f51-49ab-b9df-112034b0d7b6",
   "metadata": {},
   "source": [
    "term go与GO terms集之间的GO 语义相似性"
   ]
  },
  {
   "cell_type": "markdown",
   "id": "f9afd233-4dfd-4ada-afab-0f0196be6f09",
   "metadata": {},
   "source": [
    "![Wang05](./data/image/wang05.png)"
   ]
  },
  {
   "cell_type": "markdown",
   "id": "25af8c5f-0001-42b4-8f51-78d688fd9183",
   "metadata": {},
   "source": [
    "# mgoSim"
   ]
  },
  {
   "cell_type": "markdown",
   "id": "d6edd7e7-1bb9-4d9b-abcc-5733ed532d75",
   "metadata": {},
   "source": [
    "go1 = c(\"GO:0004022\", \"GO:0004024\", \"GO:0004174\")\n",
    "\n",
    "go2 = c(\"GO:0009055\", \"GO:0005515\")\n",
    "\n",
    "mgoSim(go1, go2, ont = \"MF\", measure = \"Wang\", combine = NULL)"
   ]
  },
  {
   "cell_type": "raw",
   "id": "6324fb54-6bea-496a-839f-f665e83d8a7b",
   "metadata": {},
   "source": [
    "           GO:0009055 GO:0005515\n",
    "GO:0004022 0.205      0.158\n",
    "GO:0004024 0.185      0.141\n",
    "GO:0004174 0.205      0.158"
   ]
  },
  {
   "cell_type": "markdown",
   "id": "802b16aa-b9dc-4507-b5c6-7568900fe913",
   "metadata": {},
   "source": [
    "上边是R示例代码，使用Wang method\n",
    "\n",
    "文献[Wang_Method.pdf](./book/Wang_Method.pdf)中给出了一个完整的例子"
   ]
  },
  {
   "cell_type": "markdown",
   "id": "fe381113-9889-42a7-9b8b-48ec22ee621b",
   "metadata": {},
   "source": [
    "# mgeneSim"
   ]
  },
  {
   "cell_type": "markdown",
   "id": "31073d2d-f8e5-47bc-a3ba-824cc0e53a82",
   "metadata": {},
   "source": [
    "mgeneSim to calculate semantic similarity among multiple gene products."
   ]
  },
  {
   "cell_type": "markdown",
   "id": "1747d1a5-aa8b-41cf-9fb3-517ed52f78e5",
   "metadata": {},
   "source": [
    "mgeneSim(genes = c(\"835\", \"5261\", \"241\", \"994\"), ont = \"MF\",organism = \"human\", measure = \"Wang\", verbose = FALSE)"
   ]
  },
  {
   "cell_type": "raw",
   "id": "16d63930-dda7-41aa-819f-45d49e279aa6",
   "metadata": {},
   "source": [
    "     835   5261  241   994\n",
    "835  1.000 0.132 0.536 0.491\n",
    "5261 0.132 1.000 0.221 0.108\n",
    "241  0.536 0.221 1.000 0.313\n",
    "994  0.491 0.108 0.313 1.000"
   ]
  },
  {
   "cell_type": "markdown",
   "id": "d29fd3d2-7bd6-40a3-a42f-db64d7d31bae",
   "metadata": {},
   "source": [
    "备注：gene参数指的是A list of entrez gene IDs"
   ]
  },
  {
   "cell_type": "markdown",
   "id": "40893931-c04c-4864-bf69-b8ea2f743e51",
   "metadata": {},
   "source": [
    "# 参考资料"
   ]
  },
  {
   "cell_type": "markdown",
   "id": "25192778-3f98-4ea9-a926-420a4b19ee88",
   "metadata": {},
   "source": [
    "[GOSemSim.pdf](./book/GOSemSim.pdf)(2013)\n",
    "\n",
    "[Wang_Method.pdf](./book/Wang_Method.pdf)(2007)"
   ]
  }
 ],
 "metadata": {
  "kernelspec": {
   "display_name": "Python 3 (ipykernel)",
   "language": "python",
   "name": "python3"
  },
  "language_info": {
   "codemirror_mode": {
    "name": "ipython",
    "version": 3
   },
   "file_extension": ".py",
   "mimetype": "text/x-python",
   "name": "python",
   "nbconvert_exporter": "python",
   "pygments_lexer": "ipython3",
   "version": "3.10.10"
  }
 },
 "nbformat": 4,
 "nbformat_minor": 5
}
