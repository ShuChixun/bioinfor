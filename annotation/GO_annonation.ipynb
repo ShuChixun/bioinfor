{
 "cells": [
  {
   "cell_type": "markdown",
   "id": "bea19055-9eab-4293-bb9c-69ff76f6522d",
   "metadata": {},
   "source": [
    "# 1.本体论和基因本体论"
   ]
  },
  {
   "cell_type": "markdown",
   "id": "eaf1835d-6059-4738-a313-7354c821a130",
   "metadata": {},
   "source": [
    "Ontology,中文称作**本体论**\n",
    "\n",
    "本体论包括与一个、许多或所有话语领域相关的概念、数据或实体之间的类别、属性和关系的表示、正式命名和定义"
   ]
  },
  {
   "cell_type": "markdown",
   "id": "282cf78d-691d-4b73-b99e-cc6fc78332c7",
   "metadata": {},
   "source": [
    "在生物学里，有若干用的比较多的ontology，用的最多，应该就是Gene ontology\n",
    "\n",
    "Gene ontology,中文称作基因本体论,简写为GO"
   ]
  },
  {
   "cell_type": "markdown",
   "id": "2d7431bb-5e9f-48bb-ac9c-451b905c7401",
   "metadata": {},
   "source": [
    "Gene Ontology可分为：\n",
    "\n",
    "- 分子功能（Molecular Function）\n",
    "- 生物过程（biological process）\n",
    "- 细胞组成（cellular component）"
   ]
  },
  {
   "cell_type": "markdown",
   "id": "3ac80f84-9c60-422d-aeb3-bd1efdc10c43",
   "metadata": {},
   "source": [
    "GO的hierarchical structure如果画出来就是这个样子，最根部是三颗树，就是这三大类，是一个有向无环图。它主要有几种存储模式，一种就是OBO文件格式，OBO是把里面的每一个概念定义为一个Term,每一个Term有一系列的特征，包括：unique ID,名字，namespace,definition,synonym同义词，is a从属关系。另一个格式就是XML格式，XML格式有点像HTML格式，把每个概念定义为一个TERM，每个TERM也有一个accession number,有它的名字，同义词还要定义，另外iaruguo这个基因在别的数据存在，也有链接存储在里面，所XML文件在电脑里，以go:accession开始，o:accesion结束"
   ]
  },
  {
   "cell_type": "markdown",
   "id": "b74a6fe8-17a1-4a4e-9a4e-646306dc2f06",
   "metadata": {},
   "source": [
    "GO structure:Directed Acyclic Graph(DAG)\n",
    "\n",
    "GO的里面的relationship:'is a', 'part of'\n",
    "\n",
    "蛋白质或者基因可以通过ID对应或者序列注释的方法找到与之对应的GO号，而GO号可对于到Term，即功能类别或者细胞定位"
   ]
  },
  {
   "cell_type": "raw",
   "id": "30b185d4-52c1-47f6-90ca-5119b001b194",
   "metadata": {},
   "source": [
    "[Term]\n",
    "id: GO:0000016\n",
    "name: lactase activity\n",
    "namespace: molecular_function\n",
    "def: \"Catalysis of the reaction: lactose + H2O = D-glucose + D-galactose.\" [PMID:12023280]\n",
    "synonym: \"lactose galactohydrolase activity\" EXACT []\n",
    "xref: EC:3.2.1.108\n",
    "xref: MetaCyc:BETAGALACTOSID-RXN\n",
    "xref: Reactome:R-HSA-189062 \"lactose + H2O => D-glucose + D-galactose\"\n",
    "xref: Reactome:R-HSA-5658001 \"Defective LCT does not hydrolyze Lac\"\n",
    "xref: RHEA:10076\n",
    "is_a: GO:0004553 ! hydrolase activity, hydrolyzing O-glycosyl compounds"
   ]
  },
  {
   "cell_type": "markdown",
   "id": "0a281907-e410-4d08-99a6-ac9a2b3ebf21",
   "metadata": {},
   "source": [
    "# 2.GO注释相似性计算"
   ]
  },
  {
   "cell_type": "markdown",
   "id": "dc9c38bc-0c2c-4e90-897d-7ab893705663",
   "metadata": {},
   "source": [
    "## 1.txt格式"
   ]
  },
  {
   "cell_type": "markdown",
   "id": "9cd890b2-8f67-434f-a898-b642456470c5",
   "metadata": {},
   "source": [
    "数据来源：[AmiGo2](https://amigo.geneontology.org/amigo/landing)\n",
    "\n",
    "搜索human,选择Ontology,再将搜索结果导出,得到[ontology.txt](./data/ontology.txt)"
   ]
  },
  {
   "cell_type": "markdown",
   "id": "9be281f1-9348-4b4a-a871-61ec5c3d43f3",
   "metadata": {},
   "source": [
    "文件部分内容展示如下"
   ]
  },
  {
   "cell_type": "raw",
   "id": "a011b048-85b3-41cc-bf24-7cc4a351d41b",
   "metadata": {},
   "source": [
    "GO:0044752\tresponse to human chorionic gonadotropin\n",
    "GO:0044751\tcellular response to human chorionic gonadotropin stimulus\n",
    "GO:0001188\tRNA polymerase I preinitiation complex assembly\n",
    "GO:0001181\tRNA polymerase I general transcription initiation factor activity\n",
    "GO:0001520\touter dense fiber\n",
    "GO:0043400\tcortisol secretion\n",
    "GO:0045136\tdevelopment of secondary sexual characteristics\n",
    "GO:0045025\tmitochondrial degradosome\n",
    "GO:0070578\tRISC-loading complex"
   ]
  },
  {
   "cell_type": "markdown",
   "id": "e5bd5212-3bb3-4d4b-8f94-ebde718e6578",
   "metadata": {},
   "source": [
    "使用R package(GOSemSim)进行计算\n",
    "\n",
    "'./complement/Rcode/GOsim.R'"
   ]
  },
  {
   "cell_type": "markdown",
   "id": "4db17497-a1e5-405b-81fc-118e988141a9",
   "metadata": {},
   "source": [
    "## 2.obo格式"
   ]
  },
  {
   "cell_type": "markdown",
   "id": "9dacf6d2-44d5-4d4a-8e6e-fb7c4077432a",
   "metadata": {},
   "source": [
    "数据来源：[go.obo](https://current.geneontology.org/ontology/go.obo)"
   ]
  },
  {
   "cell_type": "markdown",
   "id": "6999f83f-33ff-4afe-88e0-85383031ecfb",
   "metadata": {},
   "source": [
    "[go.obo](./data/go.obo)文件部分内容展示如下"
   ]
  },
  {
   "cell_type": "raw",
   "id": "0949c80f-605e-457d-a9e4-07ce0ccb4b93",
   "metadata": {},
   "source": [
    "format-version: 1.2\n",
    "data-version: releases/2024-01-17\n",
    "subsetdef: chebi_ph7_3 \"Rhea list of ChEBI terms representing the major species at pH 7.3.\"\n",
    "subsetdef: gocheck_do_not_annotate \"Term not to be used for direct annotation\"\n",
    "subsetdef: gocheck_do_not_manually_annotate \"Term not to be used for direct manual annotation\"\n",
    "subsetdef: goslim_agr \"AGR slim\"\n",
    "subsetdef: goslim_aspergillus \"Aspergillus GO slim\"\n",
    "subsetdef: goslim_candida \"Candida GO slim\"\n",
    "subsetdef: goslim_chembl \"ChEMBL protein targets summary\"\n",
    "subsetdef: goslim_drosophila \"Drosophila GO slim\"\n",
    "subsetdef: goslim_flybase_ribbon \"FlyBase Drosophila GO ribbon slim\"\n",
    "subsetdef: goslim_generic \"Generic GO slim\"\n",
    "subsetdef: goslim_metagenomics \"Metagenomics GO slim\"\n",
    "subsetdef: goslim_mouse \"Mouse GO slim\"\n",
    "subsetdef: goslim_pir \"PIR GO slim\"\n",
    "subsetdef: goslim_plant \"Plant GO slim\"\n",
    "subsetdef: goslim_pombe \"Fission yeast GO slim\"\n",
    "subsetdef: goslim_prokaryote \"GO subset for prokaryotes\"\n",
    "subsetdef: goslim_synapse \"synapse GO slim\"\n",
    "subsetdef: goslim_yeast \"Yeast GO slim\"\n",
    "synonymtypedef: syngo_official_label \"label approved by the SynGO project\"\n",
    "synonymtypedef: systematic_synonym \"Systematic synonym\" EXACT\n",
    "default-namespace: gene_ontology\n",
    "ontology: go\n",
    "property_value: has_ontology_root_term GO:0003674\n",
    "property_value: has_ontology_root_term GO:0005575\n",
    "property_value: has_ontology_root_term GO:0008150\n",
    "property_value: http://purl.org/dc/elements/1.1/description \"The Gene Ontology (GO) provides a framework and set of concepts for describing the functions of gene products from all organisms.\" xsd:string\n",
    "property_value: http://purl.org/dc/elements/1.1/title \"Gene Ontology\" xsd:string\n",
    "property_value: http://purl.org/dc/terms/license http://creativecommons.org/licenses/by/4.0/\n",
    "property_value: owl:versionInfo \"2024-01-17\" xsd:string\n",
    "\n",
    "[Term]\n",
    "id: GO:0000001\n",
    "name: mitochondrion inheritance\n",
    "namespace: biological_process\n",
    "def: \"The distribution of mitochondria, including the mitochondrial genome, into daughter cells after mitosis or meiosis, mediated by interactions between mitochondria and the cytoskeleton.\" [GOC:mcc, PMID:10873824, PMID:11389764]\n",
    "synonym: \"mitochondrial inheritance\" EXACT []\n",
    "is_a: GO:0048308 ! organelle inheritance\n",
    "is_a: GO:0048311 ! mitochondrion distribution\n",
    "\n",
    "[Term]\n",
    "id: GO:0000002\n",
    "name: mitochondrial genome maintenance\n",
    "namespace: biological_process\n",
    "def: \"The maintenance of the structure and integrity of the mitochondrial genome; includes replication and segregation of the mitochondrial chromosome.\" [GOC:ai, GOC:vw]\n",
    "is_a: GO:0007005 ! mitochondrion organization\n"
   ]
  },
  {
   "cell_type": "markdown",
   "id": "a1d21ea2-3dfb-408b-82ce-c112f87aa5ba",
   "metadata": {},
   "source": [
    "# 3.两组 GO 术语之间的语义相似性"
   ]
  },
  {
   "cell_type": "markdown",
   "id": "a27b798f-3da3-442c-8e58-587753a86e7f",
   "metadata": {},
   "source": [
    "## 文件预处理"
   ]
  },
  {
   "cell_type": "code",
   "execution_count": 1,
   "id": "16a59a4f-4684-41fa-89ac-fa630a3bdade",
   "metadata": {},
   "outputs": [],
   "source": [
    "from tqdm import tqdm\n",
    "import pandas as pd"
   ]
  },
  {
   "cell_type": "code",
   "execution_count": 2,
   "id": "127b567c-6223-40fb-ab84-1dc99cddde12",
   "metadata": {},
   "outputs": [
    {
     "name": "stderr",
     "output_type": "stream",
     "text": [
      "100%|█████████████████████████████████████████████████████████████████████▉| 616664/616743 [00:01<00:00, 608128.78it/s]\n"
     ]
    }
   ],
   "source": [
    "f = open('./data/go.obo')\n",
    "# 还有go-basic.obo,goslim_generic.obo等数据可以用来使用\n",
    "lines = f.readlines()\n",
    "nodes = []\n",
    "names = []\n",
    "namespaces = []\n",
    "\n",
    "for line in tqdm(lines):\n",
    "    line = line.strip() #去掉每行头尾空白\n",
    "    if line.find('id:')==0:\n",
    "        node = line[line.find('GO:'):].strip()\n",
    "        if node.find('GO:') == 0:\n",
    "            nodes.append(node)\n",
    "        else:\n",
    "            break\n",
    "    elif line.find('name:')==0:\n",
    "        name = line[5:].strip()\n",
    "        names.append(name)\n",
    "    elif line.find('namespace:')==0:\n",
    "        namespace = line[10:].strip()\n",
    "        namespaces.append(namespace)   \n",
    " \n",
    "GO_data = pd.DataFrame([nodes,names,namespaces]).T\n",
    "GO_data.columns = ['GO_id','GO_name','type']\n",
    "# https://blog.csdn.net/qw213e/article/details/128856842"
   ]
  },
  {
   "cell_type": "code",
   "execution_count": 3,
   "id": "2e654103-46d9-4c61-ac1e-c6c4e49e15de",
   "metadata": {},
   "outputs": [
    {
     "data": {
      "text/html": [
       "<div>\n",
       "<style scoped>\n",
       "    .dataframe tbody tr th:only-of-type {\n",
       "        vertical-align: middle;\n",
       "    }\n",
       "\n",
       "    .dataframe tbody tr th {\n",
       "        vertical-align: top;\n",
       "    }\n",
       "\n",
       "    .dataframe thead th {\n",
       "        text-align: right;\n",
       "    }\n",
       "</style>\n",
       "<table border=\"1\" class=\"dataframe\">\n",
       "  <thead>\n",
       "    <tr style=\"text-align: right;\">\n",
       "      <th></th>\n",
       "      <th>GO_id</th>\n",
       "      <th>GO_name</th>\n",
       "      <th>type</th>\n",
       "    </tr>\n",
       "  </thead>\n",
       "  <tbody>\n",
       "    <tr>\n",
       "      <th>0</th>\n",
       "      <td>GO:0000001</td>\n",
       "      <td>mitochondrion inheritance</td>\n",
       "      <td>biological_process</td>\n",
       "    </tr>\n",
       "    <tr>\n",
       "      <th>1</th>\n",
       "      <td>GO:0000002</td>\n",
       "      <td>mitochondrial genome maintenance</td>\n",
       "      <td>biological_process</td>\n",
       "    </tr>\n",
       "    <tr>\n",
       "      <th>2</th>\n",
       "      <td>GO:0000003</td>\n",
       "      <td>reproduction</td>\n",
       "      <td>biological_process</td>\n",
       "    </tr>\n",
       "    <tr>\n",
       "      <th>3</th>\n",
       "      <td>GO:0000005</td>\n",
       "      <td>obsolete ribosomal chaperone activity</td>\n",
       "      <td>molecular_function</td>\n",
       "    </tr>\n",
       "    <tr>\n",
       "      <th>4</th>\n",
       "      <td>GO:0000006</td>\n",
       "      <td>high-affinity zinc transmembrane transporter a...</td>\n",
       "      <td>molecular_function</td>\n",
       "    </tr>\n",
       "    <tr>\n",
       "      <th>...</th>\n",
       "      <td>...</td>\n",
       "      <td>...</td>\n",
       "      <td>...</td>\n",
       "    </tr>\n",
       "    <tr>\n",
       "      <th>47724</th>\n",
       "      <td>GO:2001313</td>\n",
       "      <td>UDP-4-deoxy-4-formamido-beta-L-arabinopyranose...</td>\n",
       "      <td>biological_process</td>\n",
       "    </tr>\n",
       "    <tr>\n",
       "      <th>47725</th>\n",
       "      <td>GO:2001314</td>\n",
       "      <td>UDP-4-deoxy-4-formamido-beta-L-arabinopyranose...</td>\n",
       "      <td>biological_process</td>\n",
       "    </tr>\n",
       "    <tr>\n",
       "      <th>47726</th>\n",
       "      <td>GO:2001315</td>\n",
       "      <td>UDP-4-deoxy-4-formamido-beta-L-arabinopyranose...</td>\n",
       "      <td>biological_process</td>\n",
       "    </tr>\n",
       "    <tr>\n",
       "      <th>47727</th>\n",
       "      <td>GO:2001316</td>\n",
       "      <td>kojic acid metabolic process</td>\n",
       "      <td>biological_process</td>\n",
       "    </tr>\n",
       "    <tr>\n",
       "      <th>47728</th>\n",
       "      <td>GO:2001317</td>\n",
       "      <td>kojic acid biosynthetic process</td>\n",
       "      <td>biological_process</td>\n",
       "    </tr>\n",
       "  </tbody>\n",
       "</table>\n",
       "<p>47729 rows × 3 columns</p>\n",
       "</div>"
      ],
      "text/plain": [
       "            GO_id                                            GO_name  \\\n",
       "0      GO:0000001                          mitochondrion inheritance   \n",
       "1      GO:0000002                   mitochondrial genome maintenance   \n",
       "2      GO:0000003                                       reproduction   \n",
       "3      GO:0000005              obsolete ribosomal chaperone activity   \n",
       "4      GO:0000006  high-affinity zinc transmembrane transporter a...   \n",
       "...           ...                                                ...   \n",
       "47724  GO:2001313  UDP-4-deoxy-4-formamido-beta-L-arabinopyranose...   \n",
       "47725  GO:2001314  UDP-4-deoxy-4-formamido-beta-L-arabinopyranose...   \n",
       "47726  GO:2001315  UDP-4-deoxy-4-formamido-beta-L-arabinopyranose...   \n",
       "47727  GO:2001316                       kojic acid metabolic process   \n",
       "47728  GO:2001317                    kojic acid biosynthetic process   \n",
       "\n",
       "                     type  \n",
       "0      biological_process  \n",
       "1      biological_process  \n",
       "2      biological_process  \n",
       "3      molecular_function  \n",
       "4      molecular_function  \n",
       "...                   ...  \n",
       "47724  biological_process  \n",
       "47725  biological_process  \n",
       "47726  biological_process  \n",
       "47727  biological_process  \n",
       "47728  biological_process  \n",
       "\n",
       "[47729 rows x 3 columns]"
      ]
     },
     "execution_count": 3,
     "metadata": {},
     "output_type": "execute_result"
    }
   ],
   "source": [
    "GO_data"
   ]
  },
  {
   "cell_type": "code",
   "execution_count": 4,
   "id": "1679eca3-39fa-4a41-8b56-881c644ac503",
   "metadata": {},
   "outputs": [],
   "source": [
    "Out_file = './data/GOid.csv'\n",
    "data = GO_data\n",
    "df = pd.DataFrame(data)\n",
    "df.to_csv(Out_file, index = False)"
   ]
  },
  {
   "cell_type": "markdown",
   "id": "51a0c649-dd61-414c-a1ca-3f67d6ce0a18",
   "metadata": {},
   "source": [
    "## mgoSim函数"
   ]
  },
  {
   "cell_type": "markdown",
   "id": "60a22c08-578e-49c8-af4b-1533c02366d2",
   "metadata": {},
   "source": [
    "**思路**使用mgoSim函数计算go terms之间的相似性\n",
    "\n",
    "'./complement/Rcode/GOSim.R'\n",
    "\n",
    "输入数据：GOid.csv\n",
    "\n",
    "输出结果：GOidsim.csv"
   ]
  },
  {
   "cell_type": "markdown",
   "id": "083f7bbc-0c2e-483b-a501-f76cf96f85d9",
   "metadata": {},
   "source": [
    "# 4.多个基因产物之间的语义相似性"
   ]
  },
  {
   "cell_type": "markdown",
   "id": "1e62feac-ce25-4d59-a9f0-f26abc3e75de",
   "metadata": {},
   "source": [
    "## 函数mgeneSim"
   ]
  },
  {
   "cell_type": "markdown",
   "id": "1fb8b296-2966-467b-bd4d-70e04dd65b22",
   "metadata": {},
   "source": [
    "**思路**先将算出处理的数据转化为ENTRZID,再使用mgeneSim函数结合相应的godata计算gene-gene之间的相似性\n",
    "\n",
    "'./complement/Rcode/GOsim.R'\n",
    "\n",
    "输入数据：Cosmic_CancerGeneCensus_v99_GRCh37.tsv\n",
    "\n",
    "(canonical_drivers.txt可以自行测试，Cancer Genes Altered genes driving cancer)\n",
    "\n",
    "输出结果：CGCsim.csv"
   ]
  },
  {
   "cell_type": "markdown",
   "id": "2e88934b-118e-41a7-933f-4d9f531247fc",
   "metadata": {},
   "source": [
    "# 关键算法"
   ]
  },
  {
   "cell_type": "markdown",
   "id": "b8caa73a-b3a2-4379-8d01-aac0ac17afe2",
   "metadata": {},
   "source": [
    "[FORMULA](./Formula.ipynb)包括mgoSim,mgeneSim函数"
   ]
  },
  {
   "cell_type": "markdown",
   "id": "71f57289-0bc9-4b10-aa35-3e5258d34b50",
   "metadata": {},
   "source": [
    "# 相关资料"
   ]
  },
  {
   "cell_type": "markdown",
   "id": "ed2d972a-866b-4b63-a196-0d1f97edf6c9",
   "metadata": {},
   "source": [
    "[【5.2.1.3】基因本体论与GO注释 - Sam' Note (qinqianshan.com)](https://qinqianshan.com/bioinformatics/annotation/go/)\n",
    "\n",
    "[GO注释 - 发那个太丢人 - 博客园 (cnblogs.com)](https://www.cnblogs.com/djx571/p/10322261.html)\n",
    "\n",
    "[Gene Ontology - Wikipedia](https://en.wikipedia.org/wiki/Gene_Ontology)\n",
    "\n",
    "[GO-terms Semantic Similarity Measures (GoSemSim.pdf)](./book/GoSemSim.pdf)(2013)\n",
    "\n",
    "[GOSemSim: an R package for measuring semantic similarity among GO terms and gene products)](./book/bioinformatics_26_7_976.pdf)(2010)\n",
    "\n",
    "[Gene_ontology](./book/Gene_Ontology.pdf)(2016)"
   ]
  },
  {
   "cell_type": "markdown",
   "id": "510e00ba-6f32-4a90-9516-34366f0b9c57",
   "metadata": {},
   "source": [
    "[GO Database Guide](http://www.geneontology.org/page/lead-database-guide)\n",
    "\n",
    "[Ontology Downloads](http://www.geneontology.org/docs/download-ontology)\n",
    "\n",
    "[CGC](https://cancer.sanger.ac.uk/cosmic/download/cosmic/v99/cancergenecensus)"
   ]
  },
  {
   "cell_type": "code",
   "execution_count": null,
   "id": "fbf9b5d0-78d7-467c-9e83-1ae52b79a60d",
   "metadata": {},
   "outputs": [],
   "source": []
  }
 ],
 "metadata": {
  "kernelspec": {
   "display_name": "Python 3 (ipykernel)",
   "language": "python",
   "name": "python3"
  },
  "language_info": {
   "codemirror_mode": {
    "name": "ipython",
    "version": 3
   },
   "file_extension": ".py",
   "mimetype": "text/x-python",
   "name": "python",
   "nbconvert_exporter": "python",
   "pygments_lexer": "ipython3",
   "version": "3.10.10"
  }
 },
 "nbformat": 4,
 "nbformat_minor": 5
}
