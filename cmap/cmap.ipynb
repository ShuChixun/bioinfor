{
 "cells": [
  {
   "cell_type": "markdown",
   "id": "ceaa7770-c799-4e5e-b009-40915a8a48cd",
   "metadata": {},
   "source": [
    "# 介绍[Cmap](https://clue.io/)"
   ]
  },
  {
   "cell_type": "markdown",
   "id": "26dffa89-a605-4eba-94dd-9918f2b4c84e",
   "metadata": {},
   "source": [
    "The Connectivity Map(CMap) 是由Broad研究所开发的一个基于干预基因表达的基因表达谱数据库；主要用于揭示小分子化合物，基因和疾病状态的功能联系。\n",
    "\n",
    "## 原理\n",
    "\n",
    "实验分析得到的上调和下调差异表达基因列表，利用CMap将差异基因列表与数据库参考数据集比对；根据差异表达基因在参考基因表达谱富集情况得到一个相关性分数（-100~100）；正数表示上调和下调的差异表达基因与参考基因表达谱具有相似性；负数表示上调和下调的差异表达基因与参考基因表达谱可能是相反的；最终，根据参考基因表达谱相关性分数排序"
   ]
  },
  {
   "cell_type": "markdown",
   "id": "80e2d4e6-b366-4c24-b388-13895e7d3c73",
   "metadata": {},
   "source": [
    "基因组特征"
   ]
  },
  {
   "cell_type": "markdown",
   "id": "18c2f2ef-e324-45d9-b775-1ef9bf0c595e",
   "metadata": {},
   "source": [
    "# 数据处理"
   ]
  },
  {
   "cell_type": "markdown",
   "id": "dbd7b698-efb5-40f3-8cd7-4251bbb33867",
   "metadata": {},
   "source": [
    "## 输入：\n",
    "rankMatrix.txt 22283(probe_id,基因探针)*6100(drug,药物)及注释文件cmap_instances_02.xls 6100(instance_id)*15(features)\n",
    "下载地址：[DATA LIBRARY [clue.io\\]](https://clue.io/data/CMB02#B02)\n",
    "\n",
    "## 数据是什么\n",
    "该数据集由来自用1309种不同化合物处理的五种不同人类细胞系的表达谱组成，浓度不同\n",
    "\n",
    "rankMatrix看作是6100种化合物，每种化合物有22283种基因特征，值代表不同剂量药物下基因的表达水平。\n",
    "药物在不同细胞系和/或不同剂量下的多种治疗中的转录作用\n",
    "如果新化合物的基因特征可用，则可以搜索具有该特征的转录反应集合，以识别行为相似的特征良好的药物，从而推断新化合物的MoA(mode of action,行为方式)\n",
    "\n",
    "## 如何处理\n",
    "[CMap.R](./complement/Rcode/CMap.R)\n",
    "\n",
    "## 结果是什么\n",
    "drug*drug药物的相似矩阵(1309 * 1309)"
   ]
  },
  {
   "cell_type": "markdown",
   "id": "75f7696c-c08c-40da-9d32-d6b000a06603",
   "metadata": {},
   "source": [
    "# 关键算法"
   ]
  },
  {
   "cell_type": "markdown",
   "id": "39639a77-298c-4dab-af5d-12ff66198375",
   "metadata": {},
   "source": [
    "[FORMULA](./Formula.ipynb)"
   ]
  },
  {
   "cell_type": "markdown",
   "id": "533c7c5c-a6f2-4406-96a2-7fedf1e48ee0",
   "metadata": {},
   "source": [
    "[补充](./supply.ipynb)"
   ]
  },
  {
   "cell_type": "markdown",
   "id": "ef0c1239-86cd-4b5f-8331-f98038d0da2c",
   "metadata": {},
   "source": [
    "# 相关资料"
   ]
  },
  {
   "cell_type": "markdown",
   "id": "b26b5e85-4a61-48ab-a9a6-180b48e7516b",
   "metadata": {},
   "source": [
    "[cmapR Tutorial (bioconductor.org)](https://bioconductor.org/packages/release/bioc/vignettes/cmapR/inst/doc/tutorial.html#introduction)\n",
    "\n",
    "[signatureSearchData：基因表达特征搜索的参考数据 (bioconductor.org)](https://bioconductor.org/packages/release/data/experiment/vignettes/signatureSearchData/inst/doc/signatureSearchData.html)\n",
    "(2023)\n",
    "                                    \n",
    "[CMap_packages.pdf](./book/cmap_packages.pdf)(2018)\n",
    "\n",
    "[Connectivity_map.pdf](./book/Connectivity_Map.pdf)(2017)\n",
    "\n",
    "[CMapTheory.pdf](./book/CMapTheory.pdf)(2006)\n",
    "\n",
    "[iorio.pdf](./book/iorio.pdf)(2010)\n",
    "\n",
    "[pnas.pdf](./book./book/pnas.1000138107_si.pdf)"
   ]
  }
 ],
 "metadata": {
  "kernelspec": {
   "display_name": "Python 3 (ipykernel)",
   "language": "python",
   "name": "python3"
  },
  "language_info": {
   "codemirror_mode": {
    "name": "ipython",
    "version": 3
   },
   "file_extension": ".py",
   "mimetype": "text/x-python",
   "name": "python",
   "nbconvert_exporter": "python",
   "pygments_lexer": "ipython3",
   "version": "3.10.10"
  }
 },
 "nbformat": 4,
 "nbformat_minor": 5
}
