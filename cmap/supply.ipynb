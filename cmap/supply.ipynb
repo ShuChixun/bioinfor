{
 "cells": [
  {
   "cell_type": "markdown",
   "id": "cfbe42b4-5008-410a-a05b-845833ad5c87",
   "metadata": {},
   "source": [
    "### DRUG_COMMUNITIES\n",
    "\n",
    "**cMap drug communities**\n",
    "\n",
    "数据帧包含连接性地图（cMap）数据集[1,2]中 1,233 种药物（选自 1,309 种）的群落标识符。这些群落的获取方法见 [3,4]。行名对应药物名称。该数据框架使用 R 和[3]补充材料中的数据组装而成，可在[5]和[6]中公开获取。"
   ]
  },
  {
   "cell_type": "markdown",
   "id": "090ccfe8-2d50-443d-be61-2d4a7b06edb7",
   "metadata": {},
   "source": [
    "- [1] Lamb,J. (2007) The Connectivity Map: a new tool for biomedical research. Nature Reviews\n",
    "Cancer, 7, 54-60.\n",
    "- [Lamb2007](./book/./book/lamb2007.pdf)\n",
    "- [2] Lamb,J. et al. (2006) The Connectivity Map: using gene-expression signatures to connect small molecules, genes, and disease. Science, 313, 1929.\n",
    "- [Lamb2006.pdf](./book/CMapTheory.pdf)\n",
    "- [3] Iorio,F. et al. (2009) Identifying network of drug mode of action by gene expression profiling. Journal of Computational Biology, 16, 241-251.\n",
    "- [iorio2009.pdf](./book/MoA.pdf)\n",
    "- [4] Iorio,F. et al. (2010) Discovery of drug mode of action and drug repositioning from transcriptional responses. Proceedings of the National Academy of Sciences, 107, 14621.\n",
    "- [iorio2010.pdf](./book/iorio.pdf)]\n",
    "- [5] http://www.pnas.org/content/107/33/14621.long?tab=ds\n",
    "- [6] http://mantra.tigem.it/About/AboutPnas.aspx."
   ]
  },
  {
   "cell_type": "markdown",
   "id": "74f793bd-4bc6-400e-8f67-7aece5c27901",
   "metadata": {},
   "source": [
    "首先计算使用相同药物获得的所有排名列表之间的成对 **Spearman 脚线距离**。然后，它根据这个距离（使用**Borda合并方法**）合并彼此最接近的两个列表，得到一个新的排名列表。新列表用于替换已合并在一起的两个列表，并重新计算 Spearman's Foot-Rule 距离。重复此过程，直到只剩下一个排名列表"
   ]
  },
  {
   "cell_type": "markdown",
   "id": "4b573f75-0eda-4125-b8b2-92d4b281b25d",
   "metadata": {},
   "source": [
    "[Formula](./Formula.ipynb)"
   ]
  }
 ],
 "metadata": {
  "kernelspec": {
   "display_name": "Python 3 (ipykernel)",
   "language": "python",
   "name": "python3"
  },
  "language_info": {
   "codemirror_mode": {
    "name": "ipython",
    "version": 3
   },
   "file_extension": ".py",
   "mimetype": "text/x-python",
   "name": "python",
   "nbconvert_exporter": "python",
   "pygments_lexer": "ipython3",
   "version": "3.10.10"
  }
 },
 "nbformat": 4,
 "nbformat_minor": 5
}
