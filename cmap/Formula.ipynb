{
 "cells": [
  {
   "cell_type": "markdown",
   "id": "9d89a537-6305-469c-b289-d4bd06bb98b6",
   "metadata": {},
   "source": [
    "# The Spearman correlation"
   ]
  },
  {
   "cell_type": "markdown",
   "id": "98915d29-e613-47c6-8f31-2d1f8a17ec38",
   "metadata": {},
   "source": [
    "描述两个变量之间的关系的程度(用来衡量两个变量之间的单调关系的统计量)\n",
    "\n",
    "Spearman相关系数的取值范围是-1到1之间。\n",
    "\n",
    "如果Spearman相关系数接近1，说明两个变量之间存在强烈的正相关关系，即当一个变量增加时，另一个变量也增加，并且变化的趋势是一致的。\n",
    "\n",
    "如果Spearman相关系数接近-1，说明两个变量之间存在强烈的负相关关系，即当一个变量增加时，另一个变量减少，并且变化的趋势是相反的。\n",
    "\n",
    "如果Spearman相关系数接近0，则说明两个变量之间没有明显的单调关系，或者它们之间的关系为非单调关系。\n",
    "\n",
    "Spearman相关系数对异常值不敏感，因为它是基于等级顺序的，而不是具体数值"
   ]
  },
  {
   "cell_type": "markdown",
   "id": "92cde3e4-90ab-4b74-bd14-e1214d7b7413",
   "metadata": {},
   "source": [
    "<img src=\".\\data\\image\\spearman01.png\" alt=\"spearman01\" style=\"zoom:70%;\" />"
   ]
  },
  {
   "cell_type": "markdown",
   "id": "644d57b4-3e7c-4904-8218-69783f1d3d09",
   "metadata": {},
   "source": [
    "<img src=\".\\data\\image\\spearman02.png\" alt=\"spearman01\" style=\"zoom:70%;\" />"
   ]
  },
  {
   "cell_type": "markdown",
   "id": "1fe9445b-5caa-45ca-9858-883a81159eae",
   "metadata": {},
   "source": [
    "**适用范围**"
   ]
  },
  {
   "cell_type": "markdown",
   "id": "09f0104f-a1c6-4f04-81d5-19c844f887f7",
   "metadata": {},
   "source": [
    "用于当数据不满足下列条件任意一个（线性关系，连续数据，正态分布）的时候\n",
    "\n",
    "当数据为定序数据的时候"
   ]
  },
  {
   "cell_type": "code",
   "execution_count": 6,
   "id": "9d11526b-6093-4357-aa7f-e20d61f96de2",
   "metadata": {},
   "outputs": [
    {
     "name": "stdout",
     "output_type": "stream",
     "text": [
      "0.08858700531354381\n",
      "0.8207826816681233\n"
     ]
    }
   ],
   "source": [
    "import numpy as np\n",
    "import pandas as pd\n",
    "import scipy.stats as stats\n",
    "def calculate_spearman_correlation(X, Y):\n",
    "    return stats.spearmanr(X, Y)[0]\n",
    "def calculate_spearman_correlation_p(X, Y):\n",
    "    return stats.spearmanr(X, Y)[1]\n",
    "if __name__=='__main__':\n",
    "    x = [1, 2, 3, 4, 5]\n",
    "    y = [5, 6, 7, 8, 7]\n",
    "    print(calculate_spearman_correlation_p(x, y))\n",
    "    print(calculate_spearman_correlation(x, y))"
   ]
  },
  {
   "cell_type": "markdown",
   "id": "02d91ac1-ce60-462a-82a0-257aba2f3836",
   "metadata": {},
   "source": [
    "# Borda’s methods"
   ]
  },
  {
   "cell_type": "markdown",
   "id": "d15aa045-564d-4305-b666-51871246a9b0",
   "metadata": {},
   "source": [
    "受 Borda 启发的方法集合直观且易于理解。在让-查尔斯·德·博尔达（Jean-Charles de Borda，Borda，1781）提出的原始方法中，根据完整排名列表的算术平均值计算总排名。许多其他聚合函数和修改已被提出和使用，并且适用于top-k列表（Dwork et al.， 2001)"
   ]
  },
  {
   "cell_type": "markdown",
   "id": "4fd3a0c6-6931-4eaf-9156-3340b8110314",
   "metadata": {},
   "source": [
    "https://chat.openai.com/c/95bfa70c-82cc-4902-8634-7f31e4f508f8"
   ]
  },
  {
   "cell_type": "raw",
   "id": "6fb4baa4-9ee1-4c84-8daa-46dbded214e5",
   "metadata": {},
   "source": [
    "Borda的方法是一种选举制度, 用于根据选民表达的偏好对候选人进行排名. 这种方法通常被用来产生一个候选人的排序列表, 使得最受欢迎的候选人能够获得最高的排名, 以下是Borda方法的基本解释和一个示例：\n",
    "\n",
    "基本原理：\n",
    "选民排名： 每个选民按照他们对候选人的偏好对候选人进行排名，通常从最喜欢的到最不喜欢的。\n",
    "\n",
    "分配分数： 给予每个候选人一定数量的分数，通常是候选人数量减去一。例如，如果有5个候选人，那么最喜欢的候选人会得到4分，第二喜欢的得到3分，以此类推。\n",
    "\n",
    "求和： 对于每个候选人，将每个选民为他们分配的分数相加，得到总分数。\n",
    "\n",
    "确定获胜者： 候选人的总分数最高者即为获胜者。\n",
    "\n",
    "示例：\n",
    "假设有5个候选人参加一场选举，分别是A、B、C、D、E。现有3个选民，他们的排名如下：\n",
    "\n",
    "选民1：\n",
    "\n",
    "第1选择：候选人A\n",
    "第2选择：候选人B \n",
    "第3选择：候选人C\n",
    "第4选择：候选人D\n",
    "第5选择：候选人E\n",
    "选民2：\n",
    "\n",
    "第1选择：候选人B\n",
    "第2选择：候选人C\n",
    "第3选择：候选人A\n",
    "第4选择：候选人E\n",
    "第5选择：候选人D\n",
    "选民3：\n",
    "\n",
    "第1选择：候选人C\n",
    "第2选择：候选人A\n",
    "第3选择：候选人B\n",
    "第4选择：候选人D\n",
    "第5选择：候选人E\n",
    "根据Borda方法，对于每个选民的排名，候选人将获得的分数如下所示：\n",
    "\n",
    "候选人A：(3+2+2) = 7分\n",
    "候选人B：(1+3+3) = 7分\n",
    "候选人C：(2+1+1) = 4分\n",
    "候选人D：(0+0+4) = 4分\n",
    "候选人E：(0+0+0) = 0分\n",
    "因此，候选人A和候选人B都获得了最高的7分，因此他们是此次选举的共同获胜者。"
   ]
  },
  {
   "cell_type": "raw",
   "id": "6b07e14d-cffa-4fb8-be2d-18a284ab872a",
   "metadata": {},
   "source": [
    "对于每个选民的排名，根据Borda方法，候选人A获得的分数计算如下：\n",
    "\n",
    "对于选民1：\n",
    "\n",
    "第1选择：候选人A -> 3分\n",
    "第2选择：候选人B -> 2分\n",
    "第3选择：候选人C -> 1分\n",
    "第4选择：候选人D -> 0分\n",
    "第5选择：候选人E -> 0分\n",
    "总分数 = 3 + 2 + 1 + 0 + 0 = 6分\n",
    "对于选民2：\n",
    "\n",
    "第1选择：候选人B -> 1分\n",
    "第2选择：候选人C -> 3分\n",
    "第3选择：候选人A -> 2分\n",
    "第4选择：候选人E -> 0分\n",
    "第5选择：候选人D -> 0分\n",
    "总分数 = 1 + 3 + 2 + 0 + 0 = 6分\n",
    "对于选民3：\n",
    "\n",
    "第1选择：候选人C -> 1分\n",
    "第2选择：候选人A -> 2分\n",
    "第3选择：候选人B -> 1分\n",
    "第4选择：候选人D -> 0分\n",
    "第5选择：候选人E -> 0分\n",
    "总分数 = 1 + 2 + 1 + 0 + 0 = 4分\n",
    "\n",
    "将每个选民对候选人A的得分相加，得到总分数：\n",
    "总分数 = 6分 + 6分 + 4分 = 16分\n",
    "\n",
    "因此，候选人A的总分数为7分，成为选举的获胜者之一"
   ]
  },
  {
   "cell_type": "markdown",
   "id": "b57d5b60-a0a8-4b35-8c82-71ff83a84d8a",
   "metadata": {},
   "source": [
    "可以使用R语言来实现\n",
    "\n",
    "Merging the ranker lists with the same labels of the biological states into a single list with the Iorio's method\n",
    "\n",
    "```R\n",
    "RankMerging(\n",
    "  exprSet,\n",
    "  MergingDistance = c(\"Spearman\", \"Kendall\"),\n",
    "  weighted = TRUE\n",
    ")\n",
    "\n",
    "```"
   ]
  },
  {
   "cell_type": "markdown",
   "id": "b1f36764-fd08-457c-bba7-9d81b61efd9b",
   "metadata": {},
   "source": [
    "![PRL](./data/image/PRL04.png)"
   ]
  },
  {
   "cell_type": "markdown",
   "id": "c1cb0351-be43-4f93-8255-837894181ae7",
   "metadata": {},
   "source": [
    "图 5. 化合物原型排名表 (PRL) 计算示例。每个叶片（椭圆）代表用 Alvespymicin 处理一个细胞系后得到的排序列表。颜色代表处理过的细胞系。每个内部节点（正方形）代表通过合并其子节点所代表的两个列表而得到的中间排名列表。连接两个节点的边的宽度与这些节点所代表的排序列表之间的斯皮尔曼足尺距离成反比。树根是阿螺旋霉素的最终 PRL（绿色大矩形）。实线表示孩子关系，虚线连接的节点表示兄弟姐妹关系。"
   ]
  },
  {
   "cell_type": "markdown",
   "id": "089f03c4-32b7-465a-8abd-40e4ae32cb7a",
   "metadata": {},
   "source": [
    "对应文件 (./data/Ms.RData) 22283(probe_id) * 1309(drug) 中间是数值"
   ]
  },
  {
   "cell_type": "markdown",
   "id": "bc262148-e040-4b43-9aaf-faa97267f38f",
   "metadata": {},
   "source": [
    "# Kolmogorov-Smirnov"
   ]
  },
  {
   "cell_type": "markdown",
   "id": "16c65970-f0d3-4b53-824e-2baaa36df26f",
   "metadata": {},
   "source": [
    "Kolmogorov-Smirnov检验（Kolmogorov-Smirnov test）是一种用来检验两个概率分布是否来自同一总体的非参数假设检验方法。它基于比较两个累积分布函数（CDFs），并计算它们之间的最大差异。"
   ]
  },
  {
   "cell_type": "markdown",
   "id": "dd17e4df-07cd-42a1-91db-20b4c2f91575",
   "metadata": {},
   "source": [
    "![KS](./data/image/KS01.png)"
   ]
  },
  {
   "cell_type": "markdown",
   "id": "3a036f56-b1bc-4537-822d-f7c86938500b",
   "metadata": {},
   "source": [
    "其中 λ 是富集分数，N 是基因列表中的基因数，NH 是基因集中的基因数\n",
    "\n",
    "从而计算出 ES\n",
    "\n",
    "经验分布函数 Fn"
   ]
  },
  {
   "cell_type": "markdown",
   "id": "8c8abcc0-3907-4efd-b1e6-61ebf103c43f",
   "metadata": {},
   "source": [
    "**单样本Kolmogorov-Smirnov统计**"
   ]
  },
  {
   "cell_type": "markdown",
   "id": "013cdfb0-75fc-4e02-a680-db5558485f13",
   "metadata": {},
   "source": [
    "![KS](./data/image/KS02.png)"
   ]
  },
  {
   "cell_type": "markdown",
   "id": "8121b7ad-ad55-4895-bc2a-c2c1114f734b",
   "metadata": {},
   "source": [
    "F(x_i)(小于或等于 x_i的数据点个数)/(总数据点个数)"
   ]
  },
  {
   "cell_type": "markdown",
   "id": "f6ed92d2-965b-4464-8384-ce630640226e",
   "metadata": {},
   "source": [
    "**双样本Kolmogorov-Smirnov检验**"
   ]
  },
  {
   "cell_type": "markdown",
   "id": "b791100c-3fb9-4f6f-a0ca-a9e49748138c",
   "metadata": {},
   "source": [
    "![KS](./data/image/KS03.png)"
   ]
  },
  {
   "cell_type": "markdown",
   "id": "c06a8f63-dbe5-4a9e-bcda-c66acdcbb609",
   "metadata": {},
   "source": [
    "等价于\n",
    "\n",
    "![KS](./data/image/KS04.png)"
   ]
  },
  {
   "cell_type": "code",
   "execution_count": 22,
   "id": "2a538ec6-85db-4e47-ac0c-dfffeafccb63",
   "metadata": {},
   "outputs": [
    {
     "name": "stdout",
     "output_type": "stream",
     "text": [
      "检验统计量 (D 统计量): 0.5\n",
      "p 值: 0.6785714285714285\n"
     ]
    }
   ],
   "source": [
    "from scipy.stats import ks_2samp\n",
    "\n",
    "# 组1和组2的数据\n",
    "data1 = [5, 12, 18, 21, 8, 15]\n",
    "data2 = [2, 11, 12]\n",
    "\n",
    "# 执行两样本 KS 检验\n",
    "statistic, p_value = ks_2samp(data1, data2)\n",
    "\n",
    "# 输出检验结果\n",
    "print(\"检验统计量 (D 统计量):\", statistic)\n",
    "print(\"p 值:\", p_value)"
   ]
  },
  {
   "cell_type": "markdown",
   "id": "9eb8d366-9722-4dcc-93e9-db37c12a567f",
   "metadata": {},
   "source": [
    "| 2       | 5       | 8       | 11      | 12    | 12    | 15    | 18    | 21   |\n",
    "| ------- | ------- | ------- | ------- | ----- | ----- | ----- | ----- | ---- |\n",
    "| **1/3** | 1/6     | 1/3     | **2/3** | **1** | 1/2   | 2/3   | 5/6   | 1    |\n",
    "| 2       | 5       | 8       | 11      | 12    | 12    | 15    | 18    | 21   |\n",
    "| 1/3-0   | 1/3-1/6 | 1/3-1/3 | 2/3-1/3 | 1-1/2 | 1-1/2 | 1-2/3 | 1-5/6 | 1-1  |\n",
    "| 1/3     | 1/6     | 0       | 1/3     | 1/2   | 1/2   | 1/3   | 1/6   | 0    |"
   ]
  },
  {
   "cell_type": "markdown",
   "id": "32c7f3dd-0dc6-4f3e-8d19-4488d9cb1c4b",
   "metadata": {},
   "source": [
    "max D = 1/2 = 0.5"
   ]
  },
  {
   "cell_type": "markdown",
   "id": "136eb2e0-e092-4d41-8591-0972a618734c",
   "metadata": {},
   "source": [
    "双边检验 P值公式"
   ]
  },
  {
   "cell_type": "markdown",
   "id": "98dc931a-d991-4791-aa05-2b77081e1d94",
   "metadata": {},
   "source": [
    "![KS](./data/image/KS05.png)"
   ]
  },
  {
   "cell_type": "markdown",
   "id": "7a3c6bb8-a08e-41aa-a15e-39e3db785b8b",
   "metadata": {},
   "source": [
    "代入D = 0.5得p = 0.6786"
   ]
  },
  {
   "cell_type": "markdown",
   "id": "46aa0f77-a2de-4d30-8cb0-d68ba6aea638",
   "metadata": {},
   "source": [
    "在理想情况下，如果两组数据确实来自同一分布，那么两样本 Kolmogorov-Smirnov 检验的 p 值通常会比较高，因为它表明两组数据的累积分布函数差异不大。\n",
    "\n",
    "但如果 p 值低于你选择的显著性水平（例如0.05），那么我们通常会拒绝零假设，这意味着我们有足够的证据来支持这样的结论：这两组数据不是来自同一分布"
   ]
  },
  {
   "cell_type": "markdown",
   "id": "ca7aae76-7e8e-4e83-9d08-972fdafe23ae",
   "metadata": {},
   "source": [
    "- 检验统计量 (D 统计量)：这个值为0.5。D 统计量是两个样本经验累积分布函数之间的最大绝对差异。在这个情况下，0.5 表示两个样本的累积分布函数之间的最大绝对差异为0.5。\n",
    "\n",
    "- p 值：这个值为0.6786。p 值表示如果这两组数据来自同一分布，观察到当前或更极端的检验统计量的概率是约为0.6786"
   ]
  },
  {
   "cell_type": "markdown",
   "id": "6f714087-a0c1-49dc-8aee-c4ba89ed75d6",
   "metadata": {},
   "source": [
    "在上述结果中，p 值为0.6786，明显大于0.05。因此，在0.05的显著性水平下，我们不能拒绝零假设，即这两组数据可能来自相同的分布。"
   ]
  },
  {
   "cell_type": "markdown",
   "id": "caf2aa51-1d37-4bed-b674-d4eb7c53c124",
   "metadata": {},
   "source": [
    "https://zhuanlan.zhihu.com/p/292678346?utm_id=0\n",
    "\n",
    "https://real-statistics.com/statistics-tables/kolmogorov-smirnov-table/\n",
    "\n",
    "https://chat.openai.com/c/80f517a0-b39c-4941-98c5-487cb123bfa0"
   ]
  },
  {
   "cell_type": "markdown",
   "id": "3c52534a-552d-40dc-ac25-90f489ab298f",
   "metadata": {},
   "source": [
    "# the Prototype Ranked List (PRL)"
   ]
  },
  {
   "cell_type": "markdown",
   "id": "573e7408-6015-4990-b2a0-061623278db8",
   "metadata": {},
   "source": [
    "**关键词**：\n",
    "- gene expression profiles (GEPs)全基因组基因表达谱\n",
    "- gene set enrichment analysis (GSEA)基因集富集分析\n",
    "- prototype ranked list (PRL)原型排名列表\n",
    "- the Enrichment-Score (ES) 富集分数\n",
    "- the Inverse Total Enrichment \n",
    "Scor (TES) 反向总富集度得   分"
   ]
  },
  {
   "cell_type": "markdown",
   "id": "fe418cdb-66ca-4a53-948d-b68c464e9042",
   "metadata": {},
   "source": [
    "思路：与分层聚类方法类似，我们的算法首先计算使用相同药物获得的所有排名列表之间的成对 **Spearman's Foot-Rule** 距离。然后，它根据这个距离（使用**Borda**合并方法）合并彼此最接近的两个列表，得到一个新的排名列表。新列表用于替换已合并在一起的两个列表，并重新计算Spearman的脚尺距离。重复此过程，直到只剩下一个排名列表\n",
    "\n",
    "获得数据集中每种药物 d 的 PRL, 选择了每个PRL中排名最高的250个基因和排名最低的250个基因（分别为p和q）,我们认为这种基因特征是细胞对药物的一般反应。换句话说，我们分离出一组基因，这些基因在不同的实验条件下（例如，不同的细胞系，不同的剂量）似乎对药物的反应不同。现在，给定药物 d 的最佳特征, p {p1;...;pn}（上调）和 q {q1;...;qm}（下调）， PRL 的反向总富集分（TES）定义为药物 d 与药物 x 之间的距离\n",
    "\n",
    "![PRL](./data/image/PRL01.png)\n",
    "\n",
    "这里，ES (r∈ {p,q}) 是相对于 x 的 PRL 的最优签名的丰富度分数。范围为 [-1, 1]，它是一种基于 **Kolmogorov-Smirnov** 统计量的测量方法，它量化了 一组基因在排序列表中处于顶端的程度（Subramanian 等人，2005 年）。该指标越接近 越接近于 1，则位于列表顶部的基因越多，而越接近于-1，则位于列表底部的基因越多。越多。TES 的范围是 [0，2]，它考虑了两组基因，并检查了第一组基因（p）位于 x PRL 顶部的程度，以及第二组基因（q）位于 x PRL 底部的程度。第二组基因（q）被置于底部的程度。这两种说法越成立，TES的值就越接近 0"
   ]
  },
  {
   "cell_type": "markdown",
   "id": "b02f38df-de02-4f36-852e-15c9c220ddea",
   "metadata": {},
   "source": [
    "ES计算过程 具体过程请参考[Subramanian.pdf](./book/Subramanian_A_Tamayo_P_Mootha_VK_Mukherjee_S_Ebert.pdf)\n",
    "\n",
    "- 排序基因列表：将所有基因按照某种标准（比如基因表达水平的差异）进行排序。\n",
    "\n",
    "- 定义富集基因集：给定一个基因集，计算其中基因在排序列表中的秩次（rank）。这些秩次可以用来评估基因集在整个排序列表中的位置。\n",
    "\n",
    "- 计算富集分数：从排序列表的开头开始，累积统计基因集中的基因出现的频率。每当遇到一个基因集中的基因，就增加一个分数；当遇到不在基因集中的基因时，减少一个分数。这样，得到的累积分数就是富集分数（enrichment score）。\n",
    "\n",
    "- 归一化：将富集分数进行归一化，确保它的取值范围在[-1, 1]之间。归一化的目的是使得不同基因集的ES值可以进行比较，而不受基因集大小的影响。通常使用随机基因重排的方法来进行归一化。"
   ]
  },
  {
   "cell_type": "markdown",
   "id": "925b51fa-12c5-4ccf-ac6c-390db179588f",
   "metadata": {},
   "source": [
    "一旦我们获得了最佳特征 {p;q}，对于每种药物 d，我们计算了一个向量 Td，其中包含相对于所有 PRL 的 d 最优特征的 TES。最后，我们将所有这些线向量分组到一个矩阵中：\n",
    "\n",
    "![PRL](./data/image/PRL02.png)\n",
    "\n",
    "这是一个 1309 * 1309 矩阵，其条目范围为 [0,2]，并且它正好有一个条目等于每行和每列的零。因此，通过适当的行排列，我们可以将所有这些零条目放在对角线上。为了获得最终的距离矩阵，我们简单地提供了 M（其置换版本）的对称性：\n",
    "\n",
    "![PRL](./data/image/PRL03.png)\n",
    "\n",
    "该矩阵的 i,j 条目包含药物 i 和 j 之间的距离"
   ]
  },
  {
   "cell_type": "markdown",
   "id": "c55a7026-9733-4950-a022-77ff45c41bc5",
   "metadata": {},
   "source": [
    "R 代码\n",
    "\n",
    "Once the PRL obtained for each sample, the distances between samples are calculated base on gene signature, including the expression of genes that seemed to consistently vary in response to the across different experimental conditions (e.g., different cell lines and different dosages). We take two distance measurements between PRLs: the Average Enrichment-Score Distance ⁠Davg = (TES{x,y} + TES{y,x}) / 2⁠, and the Maximum Enrichment-Score Distance ⁠Dmax = Min(TES{x,y}, TES{y,x}) / 2⁠.The avg is more stringent than max, where max is more sensitive to weak similarities, with lower precision but large recall."
   ]
  },
  {
   "cell_type": "markdown",
   "id": "73167183-47cd-43db-a8e0-44226baee878",
   "metadata": {},
   "source": [
    "```R\n",
    "ScoreGSEA(\n",
    "  MergingSet,\n",
    "  SignatureLength,\n",
    "  ScoringDistance = c(\"avg\", \"max\"),\n",
    "  p.value = FALSE\n",
    ")\n",
    "```"
   ]
  },
  {
   "cell_type": "markdown",
   "id": "d05eb29c-c93c-4ed4-a7af-beebaae3e613",
   "metadata": {},
   "source": [
    "# Girvan-newman Community identification"
   ]
  },
  {
   "cell_type": "markdown",
   "id": "998ff7f8-bba1-41b8-8cb8-fdd6af4f5075",
   "metadata": {},
   "source": [
    "边介数中心性: 网络中通过一条边的最短路径的数量\n",
    "\n",
    "1. 计算网络中所有边的中介数。\n",
    "2. 去除中间度最高的边缘。\n",
    "3. 重新计算受移除影响的所有边的中间数。\n",
    "4. 从步骤 2 开始重复，直到没有边缘残留。\n",
    "\n",
    "https://zhuanlan.zhihu.com/p/164772126\n",
    "\n",
    "https://www.youtube.com/watch?v=F4RVBAGJcFY"
   ]
  },
  {
   "cell_type": "code",
   "execution_count": 1,
   "id": "6f4cf048-1fca-4f50-88dc-08b6fbc0d873",
   "metadata": {},
   "outputs": [],
   "source": [
    "import networkx as nx\n",
    "import numpy as np\n",
    "import matplotlib.pyplot as plt"
   ]
  },
  {
   "cell_type": "code",
   "execution_count": 2,
   "id": "c7c5eeaf-4c8e-4788-acd5-ceccb25b323e",
   "metadata": {},
   "outputs": [
    {
     "data": {
      "image/png": "[encoded data removed]",
      "text/plain": [
       "<Figure size 640x480 with 1 Axes>"
      ]
     },
     "metadata": {},
     "output_type": "display_data"
    }
   ],
   "source": [
    "G = nx.Graph()\n",
    "G.add_edges_from([[1,2],[2,3],[1,3],[1,4],[1,5],[3,5],[6,7],\n",
    "                  [7,8],[8,9],[6,9],[6,8],[7,9],[10,11],[11,12],\n",
    "                  [10,12],[9,12],[2,7]])\n",
    "nx.draw(G, with_labels = True, node_color = 'r')"
   ]
  },
  {
   "cell_type": "code",
   "execution_count": 3,
   "id": "74908c40-ccb4-4e59-af25-948d8410d345",
   "metadata": {},
   "outputs": [
    {
     "data": {
      "text/plain": [
       "0.5303030303030303"
      ]
     },
     "execution_count": 3,
     "metadata": {},
     "output_type": "execute_result"
    }
   ],
   "source": [
    "TOT_PAIRS = (12*11)/2\n",
    "(5*7) / TOT_PAIRS"
   ]
  },
  {
   "cell_type": "code",
   "execution_count": 4,
   "id": "52cc9640-1b57-4ebe-a99b-57cd5794df88",
   "metadata": {},
   "outputs": [
    {
     "data": {
      "text/plain": [
       "{(1, 2): 0.30303030303030304,\n",
       " (1, 3): 0.030303030303030304,\n",
       " (1, 4): 0.16666666666666669,\n",
       " (1, 5): 0.09090909090909091,\n",
       " (2, 3): 0.18181818181818182,\n",
       " (2, 7): 0.5303030303030303,\n",
       " (3, 5): 0.07575757575757576,\n",
       " (6, 7): 0.09090909090909091,\n",
       " (6, 9): 0.06060606060606061,\n",
       " (6, 8): 0.015151515151515152,\n",
       " (7, 8): 0.09090909090909091,\n",
       " (7, 9): 0.36363636363636365,\n",
       " (8, 9): 0.06060606060606061,\n",
       " (9, 12): 0.4090909090909091,\n",
       " (10, 11): 0.015151515151515152,\n",
       " (10, 12): 0.15151515151515152,\n",
       " (11, 12): 0.15151515151515152}"
      ]
     },
     "execution_count": 4,
     "metadata": {},
     "output_type": "execute_result"
    }
   ],
   "source": [
    "nx.edge_betweenness_centrality(G)\n",
    "# 转换为列表，并对第二个元素按降序排序\n",
    "# edge_betweenness = nx.edge_betweenness_centrality(G).items()\n",
    "# sorted(edge_betweenness, key = lambda pair: -pair[1])"
   ]
  },
  {
   "cell_type": "code",
   "execution_count": 5,
   "id": "0ab38fba-7bc3-4b6b-a318-fe4dafd0d15e",
   "metadata": {
    "scrolled": true
   },
   "outputs": [
    {
     "data": {
      "image/png": "[encoded data removed]",
      "text/plain": [
       "<Figure size 640x480 with 1 Axes>"
      ]
     },
     "metadata": {},
     "output_type": "display_data"
    },
    {
     "data": {
      "image/png": "[encoded data removed]",
      "text/plain": [
       "<Figure size 640x480 with 1 Axes>"
      ]
     },
     "metadata": {},
     "output_type": "display_data"
    },
    {
     "data": {
      "image/png": "[encoded data removed]",
      "text/plain": [
       "<Figure size 640x480 with 1 Axes>"
      ]
     },
     "metadata": {},
     "output_type": "display_data"
    }
   ],
   "source": [
    "NUM_ITERATION = 3\n",
    "for i in range(NUM_ITERATION):\n",
    "    edge_betweenness = nx.edge_betweenness_centrality(G).items()\n",
    "    edge_to_delete = sorted(edge_betweenness, key = lambda pair: -pair[1])[0][0]\n",
    "\n",
    "    G.remove_edge(*edge_to_delete)\n",
    "\n",
    "    nx.draw(G, with_labels = True, node_color = 'r')\n",
    "    plt.title('Step %s \\n Edge %s Deleted'%(i, edge_to_delete), fontsize = 10)\n",
    "\n",
    "    plt.show()"
   ]
  },
  {
   "cell_type": "markdown",
   "id": "8ec8333d-66ab-4217-8b48-041ca77c1133",
   "metadata": {},
   "source": [
    "**R代码**"
   ]
  },
  {
   "cell_type": "raw",
   "id": "023e53aa-7070-4a50-80bd-1c31150892d5",
   "metadata": {},
   "source": [
    "# 加载 igraph 包\n",
    "library(igraph)\n",
    "\n",
    "# 定义边的列表\n",
    "edges <- cbind(c(1, 2, 2, 3, 1, 3, 1, 4, 1, 5, 3, 5, 6, 7, 7, 8, 8, 9, 6, 9, 6, 8, 7, 9, 10, 11, 11, 12, 10, 12, 9, 12, 2, 7),\n",
    "               c(2, 3, 3, 5, 4, 5, 5, 6, 6, 7, 7, 3, 7, 8, 8, 9, 9, 6, 9, 8, 9, 9, 9, 10, 11, 12, 12, 10, 12, 11, 12, 7, 8))\n",
    "\n",
    "# 创建有向图\n",
    "g <- graph_from_edgelist(edges, directed = TRUE)\n",
    "\n",
    "# 使用 Girvan-Newman 算法进行社区划分\n",
    "community <- edge.betweenness.community(g)\n",
    "\n",
    "# 绘制层次树\n",
    "plot(as.hclust(community), main = \"Hierarchical Tree for Girvan-Newman Clustering\")"
   ]
  },
  {
   "cell_type": "markdown",
   "id": "edf862c8-bbd5-441b-a41e-86ce27c5d00b",
   "metadata": {},
   "source": [
    "<img src = \"./data/image/HTree.png\" alt = 'HTree' style = \"zoom:50%;\"/>)"
   ]
  },
  {
   "cell_type": "markdown",
   "id": "7197218a-2146-43e0-986c-5ff406941695",
   "metadata": {},
   "source": [
    "# 参考资料"
   ]
  },
  {
   "cell_type": "markdown",
   "id": "3f3425d3-8680-4557-a4e3-18f201bdfbb2",
   "metadata": {},
   "source": [
    "[Spearman_footrule.pdf](./book/Spearman-ProofMeasurementAssociation-1904.pdf)(1904)\n",
    "\n",
    "[PRL.pdf](./book/MoA.pdf)(2009) <- 主要参考文献\n",
    "\n",
    "[Borda.pdf](./book/Borda.pdf)(2010)\n",
    "\n",
    "[Subramanian.pdf](./book/Subramanian_A_Tamayo_P_Mootha_VK_Mukherjee_S_Ebert.pdf)(2005) ES\n",
    "\n",
    "[Kolmogorov-Smirnov](./book/Wiley_Nonparametric_Statistical_Methods.pdf) <- 没有书自己找资料\n",
    "\n",
    "[pnas.pdf](./book/pnas.1000138107_si.pdf)\n",
    "\n",
    "[Lamb2006.pdf](./book/CMapTheory.pdf)\n",
    "\n",
    "[Lamb2007.pdf](./book/lamb2007.pdf)\n",
    "\n",
    "[girvan-newman_communities2002.pdf](./book/girvan-newman-2002-community-structure-in-social-and-biological-networks.pdf)"
   ]
  },
  {
   "cell_type": "markdown",
   "id": "18f9a565-fc6f-40c9-856c-3a0f9cf4aeca",
   "metadata": {},
   "source": [
    "[Spearman's rank correlation coefficient - Wikipedia](https://en.wikipedia.org/wiki/Spearman's_rank_correlation_coefficient)\n",
    "\n",
    "[Kolmogorov–Smirnov_test](https://en.wikipedia.org/wiki/Kolmogorov%E2%80%93Smirnov_test)\n",
    "\n",
    "[Fn](https://en.wikipedia.org/wiki/Empirical_distribution_function)"
   ]
  }
 ],
 "metadata": {
  "kernelspec": {
   "display_name": "Python 3 (ipykernel)",
   "language": "python",
   "name": "python3"
  },
  "language_info": {
   "codemirror_mode": {
    "name": "ipython",
    "version": 3
   },
   "file_extension": ".py",
   "mimetype": "text/x-python",
   "name": "python",
   "nbconvert_exporter": "python",
   "pygments_lexer": "ipython3",
   "version": "3.10.10"
  }
 },
 "nbformat": 4,
 "nbformat_minor": 5
}
