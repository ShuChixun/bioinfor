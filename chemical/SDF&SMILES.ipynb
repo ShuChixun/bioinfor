{
 "cells": [
  {
   "cell_type": "markdown",
   "id": "3aa62965-3058-48c1-bff0-5b9bddf11452",
   "metadata": {},
   "source": [
    "# 1.概念"
   ]
  },
  {
   "cell_type": "markdown",
   "id": "1d41d07a-22be-4174-829e-7fb7723ee6d7",
   "metadata": {},
   "source": [
    "[SDF](./complement/SDF.ipynb) (Structure Data File)是常见的化学数据文件，[SMILES](./complement/SMILES.ipynb) (Simplified Molecular Input Line Entry Specification)是一种用ASCII字符串明确描述分子结构的规范。它们被广泛应用于计算化学，化学信息学等领域"
   ]
  },
  {
   "cell_type": "markdown",
   "id": "7232ddeb-a875-425d-9d5f-a2100b46bf35",
   "metadata": {},
   "source": [
    "# 2.将SMILES转化为SDF文件"
   ]
  },
  {
   "cell_type": "code",
   "execution_count": 1,
   "id": "e3b43554-6b02-43ee-a38b-0256d1f34d44",
   "metadata": {},
   "outputs": [],
   "source": [
    "from rdkit import Chem\n",
    "from rdkit.Chem import AllChem"
   ]
  },
  {
   "cell_type": "code",
   "execution_count": 2,
   "id": "c8a8469e-fdee-4265-a12e-c87c18273b00",
   "metadata": {},
   "outputs": [
    {
     "name": "stdout",
     "output_type": "stream",
     "text": [
      "\n",
      "     RDKit          3D\n",
      "\n",
      " 13 12  0  0  0  0  0  0  0  0999 V2000\n",
      "   -0.6087    1.5835   -0.2603 N   0  0  0  0  0  0  0  0  0  0  0  0\n",
      "   -0.2817    0.1514   -0.4458 C   0  0  0  0  0  0  0  0  0  0  0  0\n",
      "   -1.2153   -0.6902    0.4132 C   0  0  0  0  0  0  0  0  0  0  0  0\n",
      "    1.1832   -0.1088   -0.0797 C   0  0  0  0  0  0  0  0  0  0  0  0\n",
      "    1.9915    0.7219    0.3084 O   0  0  0  0  0  0  0  0  0  0  0  0\n",
      "    1.5584   -1.3905   -0.2582 O   0  0  0  0  0  0  0  0  0  0  0  0\n",
      "   -0.4281    1.8301    0.7153 H   0  0  0  0  0  0  0  0  0  0  0  0\n",
      "    0.0760    2.1335   -0.7845 H   0  0  0  0  0  0  0  0  0  0  0  0\n",
      "   -0.4127   -0.0916   -1.5057 H   0  0  0  0  0  0  0  0  0  0  0  0\n",
      "   -1.0624   -0.4959    1.4811 H   0  0  0  0  0  0  0  0  0  0  0  0\n",
      "   -2.2645   -0.4850    0.1742 H   0  0  0  0  0  0  0  0  0  0  0  0\n",
      "   -1.0414   -1.7591    0.2484 H   0  0  0  0  0  0  0  0  0  0  0  0\n",
      "    2.5058   -1.3992   -0.0064 H   0  0  0  0  0  0  0  0  0  0  0  0\n",
      "  1  2  1  0\n",
      "  2  3  1  0\n",
      "  2  4  1  0\n",
      "  4  5  2  0\n",
      "  4  6  1  0\n",
      "  1  7  1  0\n",
      "  1  8  1  0\n",
      "  2  9  1  0\n",
      "  3 10  1  0\n",
      "  3 11  1  0\n",
      "  3 12  1  0\n",
      "  6 13  1  0\n",
      "M  END\n",
      "\n"
     ]
    }
   ],
   "source": [
    "smiles = 'NC(C)C(=O)O'\n",
    "# 丙氨酸smiles编码\n",
    "mol = AllChem.AddHs(Chem.MolFromSmiles(smiles))\n",
    "# MolFromSmiles模块从smiles编码中获取结构信息，AddHs用于生成（或优化）3D几何时，将氢原子加入分子中\n",
    "AllChem.EmbedMolecule(mol)\n",
    "# EmbedMolecule模块将二维分子图转化为三维分子坐标\n",
    "AllChem.MMFFOptimizeMolecule(mol)\n",
    "# MMFFOptimizeMolecule模块对分子结构进行简单优化\n",
    "print(Chem.MolToMolBlock(mol))\n",
    "# Chem.MolToMolFile(mol,'./data/NC(C)C(=O)O.sdf')"
   ]
  },
  {
   "cell_type": "markdown",
   "id": "4c75106a-14d1-4ace-94a0-b5684ea37b87",
   "metadata": {},
   "source": [
    "# 3.将SDF文件转化为SMILES"
   ]
  },
  {
   "cell_type": "markdown",
   "id": "332cf200-9f8e-4375-9292-a1c30414bcab",
   "metadata": {},
   "source": [
    "SDF文件中有比SMILES更丰富的结构信息，如果将SDF文件转化为SMILES必然会引起信息的损失，因此一般我们只有希望提升存储效率等情况下需要用到这一转化。"
   ]
  },
  {
   "cell_type": "code",
   "execution_count": 2,
   "id": "e939f0d4-4384-4c78-89b3-e442aa893b12",
   "metadata": {},
   "outputs": [
    {
     "name": "stdout",
     "output_type": "stream",
     "text": [
      "O=C1CC=NO1\n"
     ]
    }
   ],
   "source": [
    "mol = Chem.MolFromMolFile('./data/CCNC(C)=O.sdf')\n",
    "# mol = Chem.MolFromMolFile('./data/1072-48-6.mol')\n",
    "# mol = Chem.MolFromMolFile('./data/ferrocene.sdf', sanitize = False)\n",
    "# 用MolFromMolFile这一模块将SDF文件中存储的分子信息转变为RDKit中的Mol对象\n",
    "smile = Chem.MolToSmiles(mol)\n",
    "print(smile)"
   ]
  },
  {
   "cell_type": "markdown",
   "id": "400201de-8b8e-48d5-868b-ffc45759b90e",
   "metadata": {},
   "source": [
    "如果分子结构中包含一些不常见成键信息（比如分子中碳原子成了5根键）时，会导致代码报错，这时我们需要将MolFromMolFile中的sanitize参数设置为False，这样RDKit在读取分子文件时就会跳过对成键信息的验证。"
   ]
  },
  {
   "cell_type": "markdown",
   "id": "937030a7-e06f-466d-8f1b-5c16af5c9a54",
   "metadata": {},
   "source": [
    "# 4.根据SMILES绘制分子图"
   ]
  },
  {
   "cell_type": "code",
   "execution_count": 2,
   "id": "4061e0ec-278a-4e01-afcf-6e90f4e53e85",
   "metadata": {},
   "outputs": [],
   "source": [
    "from rdkit import Chem\n",
    "from rdkit.Chem import AllChem\n",
    "from rdkit.Chem import Draw"
   ]
  },
  {
   "cell_type": "code",
   "execution_count": 4,
   "id": "65ce5812-4652-4b13-9213-7cacb9f39599",
   "metadata": {},
   "outputs": [
    {
     "data": {
      "image/png": "[encoded data removed]",
      "text/plain": [
       "<PIL.PngImagePlugin.PngImageFile image mode=RGB size=300x300>"
      ]
     },
     "execution_count": 4,
     "metadata": {},
     "output_type": "execute_result"
    }
   ],
   "source": [
    "# smiles = 'NC(C)C(=O)O'\n",
    "# smiles = 'CC(=O)C(O)=O'\n",
    "smiles = 'CCNC(C)=O'\n",
    "# smiles = ''C[C@H](O)c1ccccc1'\n",
    "mol = Chem.MolFromSmiles(smiles)\n",
    "Draw.MolToImage(mol, subImgSize=(150, 150), legends=[smiles])"
   ]
  },
  {
   "cell_type": "markdown",
   "id": "88604ac5-dd15-4e92-be74-d5e607ba1d05",
   "metadata": {},
   "source": [
    "# 5.应用"
   ]
  },
  {
   "cell_type": "markdown",
   "id": "1cbdbcc8-3355-4e36-b8ca-9f2a83f191be",
   "metadata": {},
   "source": [
    "求化合物分子结构之间的相似性\n",
    "\n",
    "[相似性rdkit](./Chemical_similarity_calculate.ipynb)"
   ]
  },
  {
   "cell_type": "markdown",
   "id": "9589fe8a-263b-4a1a-92c3-1f47718cb5ef",
   "metadata": {},
   "source": [
    "# 参考资料"
   ]
  },
  {
   "cell_type": "markdown",
   "id": "eb895d5e-550c-46fa-87b6-07236cfd98ed",
   "metadata": {},
   "source": [
    "[Chemical table file - Wikipedia](https://en.wikipedia.org/wiki/Chemical_table_file#SDF)\n",
    "\n",
    "[【3.1.2】SDF - Sam' Note (qinqianshan.com)](https://qinqianshan.com/biology/chemical/file-sdf/)\n",
    "\n",
    "[RDKit|一站式搞定分子读取、输出、可视化 - 简书 (jianshu.com)](https://www.jianshu.com/p/c0df2942d8d1)                                  "
   ]
  }
 ],
 "metadata": {
  "kernelspec": {
   "display_name": "Python 3 (ipykernel)",
   "language": "python",
   "name": "python3"
  },
  "language_info": {
   "codemirror_mode": {
    "name": "ipython",
    "version": 3
   },
   "file_extension": ".py",
   "mimetype": "text/x-python",
   "name": "python",
   "nbconvert_exporter": "python",
   "pygments_lexer": "ipython3",
   "version": "3.10.10"
  }
 },
 "nbformat": 4,
 "nbformat_minor": 5
}
