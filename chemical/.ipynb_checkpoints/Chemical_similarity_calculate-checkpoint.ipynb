{
 "cells": [
  {
   "cell_type": "markdown",
   "id": "67af47c3-f0d4-40b2-bc83-98d20af2cd8e",
   "metadata": {},
   "source": [
    "# RDKit拓扑分子指纹"
   ]
  },
  {
   "cell_type": "code",
   "execution_count": 1,
   "id": "07200706-30f0-4fd3-a695-cb55d2065b01",
   "metadata": {},
   "outputs": [],
   "source": [
    "from rdkit import Chem, DataStructs\n",
    "from rdkit.Chem import AllChem"
   ]
  },
  {
   "cell_type": "code",
   "execution_count": 2,
   "id": "dcea3f19-1e0d-4328-8cb6-5656841c639a",
   "metadata": {},
   "outputs": [
    {
     "data": {
      "text/plain": [
       "[<rdkit.DataStructs.cDataStructs.ExplicitBitVect at 0x183c22018c0>,\n",
       " <rdkit.DataStructs.cDataStructs.ExplicitBitVect at 0x183c2201930>,\n",
       " <rdkit.DataStructs.cDataStructs.ExplicitBitVect at 0x183c22019a0>]"
      ]
     },
     "execution_count": 2,
     "metadata": {},
     "output_type": "execute_result"
    }
   ],
   "source": [
    "ms = [Chem.MolFromSmiles('CCOC'), Chem.MolFromSmiles('CCO'), Chem.MolFromSmiles('COC')]\n",
    "# 从SMILES编码中获取结构信息\n",
    "fps = [Chem.RDKFingerprint(x) for x in ms]\n",
    "# 计算拓扑分子指纹。得到默认长度为2048的分子指纹\n",
    "fps\n",
    "# print(len(fps[0]))\n",
    "# print(fps[0].ToBitString())"
   ]
  },
  {
   "cell_type": "code",
   "execution_count": 3,
   "id": "645bb702-e84d-4add-8116-442c564610da",
   "metadata": {},
   "outputs": [
    {
     "name": "stdout",
     "output_type": "stream",
     "text": [
      "0.6\n",
      "0.6\n"
     ]
    }
   ],
   "source": [
    "print(DataStructs.FingerprintSimilarity(fps[0], fps[1]))\n",
    "# 相似性比较，默认方法为DataStructs.TanimotoSimilarity，即谷本相似度,等价于下面一行代码\n",
    "print(DataStructs.TanimotoSimilarity(fps[0], fps[1]))"
   ]
  },
  {
   "cell_type": "markdown",
   "id": "96ed3bd3-a760-484c-92f2-da16786f1e4b",
   "metadata": {},
   "source": [
    "# Morgan指纹（圆形指纹）"
   ]
  },
  {
   "cell_type": "markdown",
   "id": "702f58ad-da57-4939-a2bc-fd52147b179c",
   "metadata": {},
   "source": [
    "以SparseBitVects方式生成摩根指纹：GetMorganFingerprint(mol, radius) radius：考虑半径"
   ]
  },
  {
   "cell_type": "code",
   "execution_count": 22,
   "id": "7ca7f5cf-9693-4167-8728-ad07f20ffdd7",
   "metadata": {},
   "outputs": [
    {
     "data": {
      "text/plain": [
       "4294967295"
      ]
     },
     "execution_count": 22,
     "metadata": {},
     "output_type": "execute_result"
    }
   ],
   "source": [
    "mfp = [AllChem.GetMorganFingerprint(x, 2) for x in ms]\n",
    "mfp[0].GetLength()"
   ]
  },
  {
   "cell_type": "code",
   "execution_count": 23,
   "id": "8790f2ea-892f-432a-bea3-f8ccda38a798",
   "metadata": {},
   "outputs": [
    {
     "data": {
      "text/plain": [
       "{864674487: 1, 2154640335: 1, 2246728737: 2, 3975275337: 2}"
      ]
     },
     "execution_count": 23,
     "metadata": {},
     "output_type": "execute_result"
    }
   ],
   "source": [
    "mfp[2].GetNonzeroElements()"
   ]
  },
  {
   "cell_type": "markdown",
   "id": "fbef5de5-3bee-4056-b8da-18d1618399b4",
   "metadata": {},
   "source": [
    "以ExplicitBitVects方式生成摩根指纹：GetMorganFingerprintAsBitVect(mol, radius, nBits) radius：考虑半径 nBits：指纹长度"
   ]
  },
  {
   "cell_type": "code",
   "execution_count": 25,
   "id": "68108f52-a12a-4047-845b-9c00ae1ec015",
   "metadata": {},
   "outputs": [
    {
     "name": "stdout",
     "output_type": "stream",
     "text": [
      "10\n",
      "0010100100\n",
      "0.6\n"
     ]
    }
   ],
   "source": [
    "mfp = [AllChem.GetMorganFingerprintAsBitVect(x, 2, nBits=10) for x in ms]\n",
    "print(mfp[0].GetNumBits())\n",
    "print(mfp[0].ToBitString())\n",
    "print(DataStructs.TanimotoSimilarity(mfp[0], mfp[1]))"
   ]
  },
  {
   "cell_type": "markdown",
   "id": "a07c1f04-efea-4803-8ced-f8086bc701bb",
   "metadata": {},
   "source": [
    "# DrugBank中药物相似性计算"
   ]
  },
  {
   "cell_type": "code",
   "execution_count": 2,
   "id": "0da49836-ea82-4c0a-a580-00017d6f2dd5",
   "metadata": {},
   "outputs": [],
   "source": [
    "import pandas as pd\n",
    "from rdkit import Chem, DataStructs\n",
    "from rdkit.Chem import MACCSkeys\n",
    "from rdkit.Chem import AllChem"
   ]
  },
  {
   "cell_type": "code",
   "execution_count": 3,
   "id": "32e703ad-5710-4bc4-b541-ba0a5ce512f5",
   "metadata": {},
   "outputs": [
    {
     "name": "stdout",
     "output_type": "stream",
     "text": [
      "<class 'pandas.core.frame.DataFrame'>\n",
      "RangeIndex: 11792 entries, 0 to 11791\n",
      "Data columns (total 2 columns):\n",
      " #   Column       Non-Null Count  Dtype \n",
      "---  ------       --------------  ----- \n",
      " 0   DRUGBANK_ID  11792 non-null  object\n",
      " 1   SMILES       11792 non-null  object\n",
      "dtypes: object(2)\n",
      "memory usage: 184.4+ KB\n",
      "None\n"
     ]
    },
    {
     "data": {
      "text/html": [
       "<div>\n",
       "<style scoped>\n",
       "    .dataframe tbody tr th:only-of-type {\n",
       "        vertical-align: middle;\n",
       "    }\n",
       "\n",
       "    .dataframe tbody tr th {\n",
       "        vertical-align: top;\n",
       "    }\n",
       "\n",
       "    .dataframe thead th {\n",
       "        text-align: right;\n",
       "    }\n",
       "</style>\n",
       "<table border=\"1\" class=\"dataframe\">\n",
       "  <thead>\n",
       "    <tr style=\"text-align: right;\">\n",
       "      <th></th>\n",
       "      <th>DRUGBANK_ID</th>\n",
       "      <th>SMILES</th>\n",
       "    </tr>\n",
       "  </thead>\n",
       "  <tbody>\n",
       "    <tr>\n",
       "      <th>0</th>\n",
       "      <td>DB00006</td>\n",
       "      <td>CC[C@H](C)[C@H](NC(=O)[C@H](CCC(O)=O)NC(=O)[C@...</td>\n",
       "    </tr>\n",
       "    <tr>\n",
       "      <th>1</th>\n",
       "      <td>DB00007</td>\n",
       "      <td>CCNC(=O)[C@@H]1CCCN1C(=O)[C@H](CCCNC(N)=N)NC(=...</td>\n",
       "    </tr>\n",
       "    <tr>\n",
       "      <th>2</th>\n",
       "      <td>DB00014</td>\n",
       "      <td>CC(C)C[C@H](NC(=O)[C@@H](COC(C)(C)C)NC(=O)[C@H...</td>\n",
       "    </tr>\n",
       "    <tr>\n",
       "      <th>3</th>\n",
       "      <td>DB00027</td>\n",
       "      <td>CC(C)C[C@@H](NC(=O)CNC(=O)[C@@H](NC=O)C(C)C)C(...</td>\n",
       "    </tr>\n",
       "    <tr>\n",
       "      <th>4</th>\n",
       "      <td>DB00035</td>\n",
       "      <td>NC(=O)CC[C@@H]1NC(=O)[C@H](CC2=CC=CC=C2)NC(=O)...</td>\n",
       "    </tr>\n",
       "    <tr>\n",
       "      <th>5</th>\n",
       "      <td>DB00050</td>\n",
       "      <td>CC(C)C[C@H](NC(=O)[C@@H](CCCNC(N)=O)NC(=O)[C@H...</td>\n",
       "    </tr>\n",
       "  </tbody>\n",
       "</table>\n",
       "</div>"
      ],
      "text/plain": [
       "  DRUGBANK_ID                                             SMILES\n",
       "0     DB00006  CC[C@H](C)[C@H](NC(=O)[C@H](CCC(O)=O)NC(=O)[C@...\n",
       "1     DB00007  CCNC(=O)[C@@H]1CCCN1C(=O)[C@H](CCCNC(N)=N)NC(=...\n",
       "2     DB00014  CC(C)C[C@H](NC(=O)[C@@H](COC(C)(C)C)NC(=O)[C@H...\n",
       "3     DB00027  CC(C)C[C@@H](NC(=O)CNC(=O)[C@@H](NC=O)C(C)C)C(...\n",
       "4     DB00035  NC(=O)CC[C@@H]1NC(=O)[C@H](CC2=CC=CC=C2)NC(=O)...\n",
       "5     DB00050  CC(C)C[C@H](NC(=O)[C@@H](CCCNC(N)=O)NC(=O)[C@H..."
      ]
     },
     "execution_count": 3,
     "metadata": {},
     "output_type": "execute_result"
    }
   ],
   "source": [
    "data = pd.read_csv('./data/structure.csv')\n",
    "# csv表中包含2列，分别为分子名称，分子的SMILES格式\n",
    "print(data.info())\n",
    "# data的信息\n",
    "data[0:6]\n",
    "# 展示data前6行"
   ]
  },
  {
   "cell_type": "code",
   "execution_count": 4,
   "id": "e8b3f691-a7c9-4d1e-a252-9b178fea88e9",
   "metadata": {},
   "outputs": [],
   "source": [
    "Drug_fingerprints_smiles={} \n",
    "drug_name = data[:]['DRUGBANK_ID']\n",
    "drug_smiles = data[:]['SMILES'].tolist()\n",
    "# n = len(drug_name)\n",
    "for i in range(100):\n",
    "    molecule = Chem.MolFromSmiles(drug_smiles[i])\n",
    "    Drug_fingerprints_smiles[drug_name[i]]=AllChem.GetMorganFingerprintAsBitVect(molecule, 6, nBits=1024)\n",
    "    # 长度太大会报错，用到哪些就用那些数据\n",
    "# 先将DrugBank中需要用到的药物转化为分子指纹\n",
    "# 再计算相似度"
   ]
  },
  {
   "cell_type": "code",
   "execution_count": 5,
   "id": "057e2328-b27e-4a6d-be5f-8306a5209c83",
   "metadata": {},
   "outputs": [
    {
     "data": {
      "text/plain": [
       "[0.29256594724220625,\n",
       " 0.5210355987055016,\n",
       " 0.5210355987055016,\n",
       " 0.1404494382022472,\n",
       " 0.22727272727272727]"
      ]
     },
     "execution_count": 5,
     "metadata": {},
     "output_type": "execute_result"
    }
   ],
   "source": [
    "filename = \"./data/drug_drug.csv\"\n",
    "drugPair = pd.read_csv(filename)\n",
    "\n",
    "# Drug_fingerprints_smiles[drugPair.loc[0]['drug1']]\n",
    "drug1 = drugPair['drug1']\n",
    "drug2 = drugPair['drug2']\n",
    "drug_sim = [] \n",
    "for i in range(len(drug1)):\n",
    "    drug_sim.append(DataStructs.FingerprintSimilarity(Drug_fingerprints_smiles[drug1[i]], Drug_fingerprints_smiles[drug2[i]]))\n",
    "drug_sim"
   ]
  },
  {
   "cell_type": "code",
   "execution_count": 6,
   "id": "3fac1a33-58c5-47e4-a81c-acca5f469000",
   "metadata": {},
   "outputs": [],
   "source": [
    "from decimal import Decimal"
   ]
  },
  {
   "cell_type": "code",
   "execution_count": 7,
   "id": "f5eeb51f-4f73-451f-9c60-50a95dc60a5d",
   "metadata": {},
   "outputs": [
    {
     "data": {
      "text/html": [
       "<div>\n",
       "<style scoped>\n",
       "    .dataframe tbody tr th:only-of-type {\n",
       "        vertical-align: middle;\n",
       "    }\n",
       "\n",
       "    .dataframe tbody tr th {\n",
       "        vertical-align: top;\n",
       "    }\n",
       "\n",
       "    .dataframe thead th {\n",
       "        text-align: right;\n",
       "    }\n",
       "</style>\n",
       "<table border=\"1\" class=\"dataframe\">\n",
       "  <thead>\n",
       "    <tr style=\"text-align: right;\">\n",
       "      <th></th>\n",
       "      <th>drug1</th>\n",
       "      <th>drug2</th>\n",
       "      <th>coeff</th>\n",
       "    </tr>\n",
       "  </thead>\n",
       "  <tbody>\n",
       "    <tr>\n",
       "      <th>0</th>\n",
       "      <td>DB00006</td>\n",
       "      <td>DB00007</td>\n",
       "      <td>0.2926</td>\n",
       "    </tr>\n",
       "    <tr>\n",
       "      <th>1</th>\n",
       "      <td>DB00007</td>\n",
       "      <td>DB00014</td>\n",
       "      <td>0.5210</td>\n",
       "    </tr>\n",
       "    <tr>\n",
       "      <th>2</th>\n",
       "      <td>DB00014</td>\n",
       "      <td>DB00007</td>\n",
       "      <td>0.5210</td>\n",
       "    </tr>\n",
       "    <tr>\n",
       "      <th>3</th>\n",
       "      <td>DB00027</td>\n",
       "      <td>DB00035</td>\n",
       "      <td>0.1404</td>\n",
       "    </tr>\n",
       "    <tr>\n",
       "      <th>4</th>\n",
       "      <td>DB00035</td>\n",
       "      <td>DB00050</td>\n",
       "      <td>0.2273</td>\n",
       "    </tr>\n",
       "  </tbody>\n",
       "</table>\n",
       "</div>"
      ],
      "text/plain": [
       "     drug1    drug2   coeff\n",
       "0  DB00006  DB00007  0.2926\n",
       "1  DB00007  DB00014  0.5210\n",
       "2  DB00014  DB00007  0.5210\n",
       "3  DB00027  DB00035  0.1404\n",
       "4  DB00035  DB00050  0.2273"
      ]
     },
     "execution_count": 7,
     "metadata": {},
     "output_type": "execute_result"
    }
   ],
   "source": [
    "finaldrug_sim = []\n",
    "# for i in range(len(drug_sim)-1):\n",
    "for i in range(len(drug_sim)):\n",
    "    finaldrug_sim.append(Decimal(drug_sim[i]).quantize(Decimal('0.0001')))\n",
    "    # 保留四位小数\n",
    "drugPair['coeff'] = finaldrug_sim\n",
    "drugPair"
   ]
  },
  {
   "cell_type": "code",
   "execution_count": 13,
   "id": "812f5ae4-4a7e-41f0-8449-40f96a3293a8",
   "metadata": {},
   "outputs": [],
   "source": [
    "Out_file = './data/drug_drug_coeff.csv'\n",
    "data = drugPair\n",
    "df = pd.DataFrame(data)\n",
    "df.to_csv(Out_file, index = False)"
   ]
  },
  {
   "cell_type": "markdown",
   "id": "db5222cf-a81b-44bb-aafc-78618a03762c",
   "metadata": {},
   "source": [
    "P.S.\n",
    "'./data/structure.csv'文件通过[DrugBank](https://go.drugbank.com/releases/5-1-11/downloads/all-structures)下载对应的structures.sdf,再使用'./complement/Rcode/SDFfile.R'预处理得到的"
   ]
  },
  {
   "cell_type": "markdown",
   "id": "4d56de86-4b1e-40b0-a4e0-6446b4ce1263",
   "metadata": {},
   "source": [
    "# 关键算法"
   ]
  },
  {
   "cell_type": "markdown",
   "id": "025a1a02-15ac-4026-8896-34c5ee8a46d4",
   "metadata": {},
   "source": [
    "[FORMULA](./Formula.ipynb)"
   ]
  },
  {
   "cell_type": "markdown",
   "id": "c0e6dc66-2f2d-47da-babd-2a472ea1e6c4",
   "metadata": {},
   "source": [
    "# 作用"
   ]
  },
  {
   "cell_type": "markdown",
   "id": "28afd2ff-6282-4b38-adff-f21e6118f5d1",
   "metadata": {},
   "source": [
    "确定不同药物（属于不同类别或结构不同的药物）的共同作用机制"
   ]
  },
  {
   "cell_type": "markdown",
   "id": "a4dbb469-a014-4364-882a-b81b81bbd296",
   "metadata": {},
   "source": [
    "# 参考资料"
   ]
  },
  {
   "cell_type": "markdown",
   "id": "d6abd4b7-0c18-4e73-82f4-c8d8c4759424",
   "metadata": {},
   "source": [
    "[Morgan Algorithm](./book/Morgan_Algorithm.pdf)(1965)\n",
    "\n",
    "[【3.1】分子指纹提取-RDKit - Sam' Note (qinqianshan.com)](https://qinqianshan.com/biology/chemical/fp-rd/)\n",
    " \n",
    "[【3.2.11】扩展连通性指纹（Extended Connectivity Fingerprints，ECFPs）原理介绍 - Sam' Note (qinqianshan.com)](https://qinqianshan.com/biology/chemical/ecfps/)\n",
    "\n",
    "[【3.3.1】相似性-RDKit - Sam' Note (qinqianshan.com)](https://qinqianshan.com/biology/chemical/sim-rd/)\n",
    "\n",
    "[Getting Started with the RDKit in Python — The RDKit 2023.09.5 documentation](https://www.rdkit.org/docs/GettingStartedInPython.html#list-of-available-descriptors)\n",
    "\n",
    "[rdkit.Chem.AtomPairs.Pairs module — The RDKit 2023.09.5 documentation](https://www.rdkit.org/docs/source/rdkit.Chem.AtomPairs.Pairs.html)\n",
    "\n",
    "[RDKit|分子指纹提取、相似性比较及应用_rdkit分子相似性-CSDN博客](https://blog.csdn.net/dreadlesss/article/details/106129597)"
   ]
  }
 ],
 "metadata": {
  "kernelspec": {
   "display_name": "Python 3 (ipykernel)",
   "language": "python",
   "name": "python3"
  },
  "language_info": {
   "codemirror_mode": {
    "name": "ipython",
    "version": 3
   },
   "file_extension": ".py",
   "mimetype": "text/x-python",
   "name": "python",
   "nbconvert_exporter": "python",
   "pygments_lexer": "ipython3",
   "version": "3.10.10"
  }
 },
 "nbformat": 4,
 "nbformat_minor": 5
}
