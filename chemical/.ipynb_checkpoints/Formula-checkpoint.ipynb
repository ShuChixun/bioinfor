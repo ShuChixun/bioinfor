{
 "cells": [
  {
   "cell_type": "markdown",
   "id": "5b2e5664-0d0e-419f-8cf1-8bf62cc03b2f",
   "metadata": {},
   "source": [
    "# Morgan指纹（圆形指纹）——AllChem.GetMorganFingerprint函数"
   ]
  },
  {
   "cell_type": "markdown",
   "id": "1263f6e2-19b0-40c5-85fb-7fd053061444",
   "metadata": {},
   "source": [
    "扩展连通性指纹（Extended-Connectivity Fingerprints，ECFPs）是一种圆形拓扑指纹，可用于分子表示、相似性搜索、构效关系建模。它在药物设计中有诸多应用，是最受欢迎的相似性比对工具"
   ]
  },
  {
   "cell_type": "markdown",
   "id": "6ea4e834-3c1f-4d41-bc38-760539eed845",
   "metadata": {},
   "source": [
    "ECFPs在ChemAxon中有如下两种表示方式\n",
    "* 1.整数标识列（list of integer identifiers）\n",
    "ECFPs可以通过一组不定长的整数标识符来表示，这是最原始和最精确的表示方法\n",
    "\n",
    "* 2.定长比特串（fixed-length bit string）\n",
    "传统的二进制分子表示方法是通过固定长度的比特串实现的。而ECFPs也可以通过“折叠”操作来形成定长比特串，也就是将底层的整数标识列压缩成一个更短长度的定长比特串（就是一个向量，常见的长度有1024,2048等）"
   ]
  },
  {
   "cell_type": "markdown",
   "id": "b013ab72-66af-4ce0-a0d2-49b2416bba32",
   "metadata": {},
   "source": [
    "## 生成流程"
   ]
  },
  {
   "cell_type": "markdown",
   "id": "857b290f-ea8c-44e8-84c5-1175805282cd",
   "metadata": {},
   "source": [
    "1.初始化原子标识符\n",
    "\n",
    "- ECFP生成时，首先对给定分子的每一个非氢原子分配一个初始整数标识符。该标识符是通过把原子的属性（例如原子序号、连接数量等）打包，再经哈希函数转变成一个整数变量而得到，包含了相应原子的化学信息。\n",
    "- 需要考虑的原子属性是ECFPs中一个重要的参数，可以完全由自己设置。"
   ]
  },
  {
   "cell_type": "markdown",
   "id": "638195d4-b4a7-4d17-a908-1633564df05a",
   "metadata": {},
   "source": [
    "2.标识符的迭代更新\n",
    "\n",
    "- 初始化后，会进行一系列迭代操作，将某一原子的初始标识符与邻近原子的标识符合并，直到到达设置的半径为止。每一轮迭代都会捕捉距中心原子越来越远的原子信息，最终经哈希运算，编码成为一个整数值，这些整数值合并形成一个整数标识列。\n",
    "\n",
    "- 这种迭代更新的过程基于一种[**摩根算法（Morgan algorithm）**](https://doi.org/10.1021/c160017a018)"
   ]
  },
  {
   "cell_type": "markdown",
   "id": "b8d05e6b-e027-46a8-b1c5-44c9dfb864eb",
   "metadata": {},
   "source": [
    "<img src=\".\\data\\image\\Morgan_fig1.png\" alt=\"Morgan_atom\" style=\"zoom:50%;\" />"
   ]
  },
  {
   "cell_type": "markdown",
   "id": "7c904536-5c45-4901-92d9-efd01001e57e",
   "metadata": {},
   "source": [
    "3.标识符去重\n",
    "\n",
    "* 在最终生成指纹的过程中，会去除等价的原子标识符。等价意味着他们包含一组相同的键，或他们有相同的哈希值。在这步操作中，如果标识符的频数需要保留（ECFC模式），相同标识符出现的次数将会被保存"
   ]
  },
  {
   "cell_type": "markdown",
   "id": "a4d19c73-5a80-4daa-8f4a-433b66484df3",
   "metadata": {},
   "source": [
    "<img src=\".\\data\\image\\Morgan_fig2.png\" alt=\"Morgan_atom\" style=\"zoom:100%;\" />\n",
    "<img src=\".\\data\\image\\Morgan_fig3.png\" alt=\"Morgan_atom\" style=\"zoom:100%;\" />"
   ]
  },
  {
   "cell_type": "markdown",
   "id": "e9cf2bd6-193f-4c60-91f1-16ada8392cc8",
   "metadata": {},
   "source": [
    "最终得到的是分子的定长比特串形式"
   ]
  },
  {
   "cell_type": "markdown",
   "id": "10fad361-e8ab-44c7-8e44-5fb99f7b3c30",
   "metadata": {},
   "source": [
    "## 代码示例"
   ]
  },
  {
   "cell_type": "code",
   "execution_count": 1,
   "id": "dc2209fd-1d9a-40c1-a958-f08d4579cbb0",
   "metadata": {},
   "outputs": [],
   "source": [
    "from rdkit import Chem, DataStructs\n",
    "from rdkit.Chem import AllChem"
   ]
  },
  {
   "cell_type": "code",
   "execution_count": 51,
   "id": "a7f19290-448f-4926-b03e-aab7330ac3df",
   "metadata": {},
   "outputs": [],
   "source": [
    "ms = [Chem.MolFromSmiles('CCO'), Chem.MolFromSmiles('COC')]\n",
    "# molecule = Chem.MolFromSmiles(SMILES)\n",
    "Drug_fingerprints = [AllChem.GetMorganFingerprintAsBitVect(x, 2, nBits=8) for x in ms]\n",
    "# 这里为了方便后边的快速计算，将参数设置为8，一般实际使用时设置为1024或2048"
   ]
  },
  {
   "cell_type": "code",
   "execution_count": 52,
   "id": "09a87b32-972e-4eb9-a55c-e8b7c6ac46d2",
   "metadata": {},
   "outputs": [
    {
     "name": "stdout",
     "output_type": "stream",
     "text": [
      "8\n",
      "11100011\n"
     ]
    }
   ],
   "source": [
    "fps = Drug_fingerprints[0]\n",
    "print(fps.GetNumBits())\n",
    "print(fps.ToBitString())"
   ]
  },
  {
   "cell_type": "markdown",
   "id": "e1d0f8bd-9e36-4ced-9a9c-a93dabc0efaa",
   "metadata": {},
   "source": [
    "# DrugBank中药物相似性计算——DataStructs.TanimotoSimilarity函数"
   ]
  },
  {
   "cell_type": "markdown",
   "id": "e9a4335c-382f-4bcb-a886-a8ccd3ba4e6b",
   "metadata": {},
   "source": [
    "文献综述[willett1998.pdf](./book/willett1998.pdf)中讲述了**谷本系数（the Tanimoto coefficient）一直是基于片段的化学相似性研究的首选测量方法**"
   ]
  },
  {
   "cell_type": "markdown",
   "id": "c657f22e-2eb8-4001-bfa2-2008c7fef6b0",
   "metadata": {},
   "source": [
    "## the Tanimoto coefficient"
   ]
  },
  {
   "cell_type": "markdown",
   "id": "36765caa-c45f-4017-95a4-5758c2e61c48",
   "metadata": {},
   "source": [
    "![Tanimoto_coef](./data/image/Tanimoto_coef.png)"
   ]
  },
  {
   "cell_type": "markdown",
   "id": "0c261d26-5cfd-4bcc-a3b5-8af37d5c9eb7",
   "metadata": {},
   "source": [
    "## 参数"
   ]
  },
  {
   "cell_type": "markdown",
   "id": "2dde4fa0-420c-42a2-a357-1e145c0a598d",
   "metadata": {},
   "source": [
    "对于以包含 n 个二进制值（例如指纹）的向量 XA 和 XB 为特征的对象 A 和 B\n",
    "\n",
    "<img src=\".\\data\\image\\Tanimoto_fig1.png\" style=\"zoom:50%;\" />"
   ]
  },
  {
   "cell_type": "markdown",
   "id": "fe78f356-1a10-4065-85e7-73f8ec8c34f5",
   "metadata": {},
   "source": [
    "这里只讲固定长度比特串的两个向量之间的算法，更多详细内容请阅读文献[willett1998.pdf](/data/book/willett1998.pdf)"
   ]
  },
  {
   "cell_type": "code",
   "execution_count": 53,
   "id": "e8427431-c738-4d25-972c-60acd7b5f51a",
   "metadata": {},
   "outputs": [
    {
     "name": "stdout",
     "output_type": "stream",
     "text": [
      "11100011\n",
      "01000001\n",
      "0.4\n"
     ]
    }
   ],
   "source": [
    "print(Drug_fingerprints[0].ToBitString())\n",
    "print(Drug_fingerprints[1].ToBitString())\n",
    "print(DataStructs.TanimotoSimilarity( Drug_fingerprints[0],  Drug_fingerprints[1]))"
   ]
  },
  {
   "cell_type": "code",
   "execution_count": 54,
   "id": "d7779480-3452-49df-a6ca-eda75957dcd4",
   "metadata": {},
   "outputs": [
    {
     "data": {
      "text/plain": [
       "0.4"
      ]
     },
     "execution_count": 54,
     "metadata": {},
     "output_type": "execute_result"
    }
   ],
   "source": [
    "a = 5 # 向量A中比特值为1的数量\n",
    "b = 2 # 向量B中比特值为1的数量\n",
    "c = 2 # 向量A与B中比特值都为1的数量\n",
    "s = c/(a+b-c)\n",
    "s"
   ]
  },
  {
   "cell_type": "markdown",
   "id": "6c7387a0-333e-455b-bd2a-018ef6ea16d6",
   "metadata": {},
   "source": [
    "可以验证计算使用的公式,讲前边的参数改为12,1024，并得到新的a,b,c代入计算,结果相同"
   ]
  },
  {
   "cell_type": "markdown",
   "id": "8cb51c89-0e5b-47df-8ff3-86ba477a5583",
   "metadata": {},
   "source": [
    "# 参考资料"
   ]
  },
  {
   "cell_type": "markdown",
   "id": "35719dce-c8b2-449e-86a0-60b774b21c5b",
   "metadata": {},
   "source": [
    "[Morgan_Algorithm1965.pdf](./book/Morgan_Algorithm.pdf)\n",
    "\n",
    "[willett1998.pdf](./book/willett1998.pdf)\n",
    "\n",
    "[butina1999.pdf](./book/butina1999.pdf)"
   ]
  },
  {
   "cell_type": "markdown",
   "id": "a5fc2bc8-cd9c-4432-bd71-39bff2483acf",
   "metadata": {},
   "source": [
    "[【3.2.11】扩展连通性指纹（Extended Connectivity Fingerprints，ECFPs）原理介绍 - Sam' Note (qinqianshan.com)](https://qinqianshan.com/biology/chemical/ecfps/)"
   ]
  }
 ],
 "metadata": {
  "kernelspec": {
   "display_name": "Python 3 (ipykernel)",
   "language": "python",
   "name": "python3"
  },
  "language_info": {
   "codemirror_mode": {
    "name": "ipython",
    "version": 3
   },
   "file_extension": ".py",
   "mimetype": "text/x-python",
   "name": "python",
   "nbconvert_exporter": "python",
   "pygments_lexer": "ipython3",
   "version": "3.10.10"
  }
 },
 "nbformat": 4,
 "nbformat_minor": 5
}
