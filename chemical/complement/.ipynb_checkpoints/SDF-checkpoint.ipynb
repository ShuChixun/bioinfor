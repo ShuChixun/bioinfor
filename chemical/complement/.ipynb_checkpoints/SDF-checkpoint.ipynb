{
 "cells": [
  {
   "cell_type": "markdown",
   "id": "3cabd34f-bb74-4c86-b145-8964d1385ace",
   "metadata": {},
   "source": [
    "# 1.介绍"
   ]
  },
  {
   "cell_type": "raw",
   "id": "37592208-3c02-4a82-ab90-095455c27250",
   "metadata": {},
   "source": [
    "SDF 是 MDL 开发的一系列化学数据文件格式之一;它特别适用于结构信息。\n",
    "“SDF”代表结构数据格式，SDF 文件实际上包装了 molfile(MDL Molfile)格式。\n",
    "多条记录由四个美元符号 ($$$$)组成的线分隔。这种格式的一个关键特征是它能够包含相关数据\n",
    "文件扩展名：.sd，.sdf。格式类型：化学文件格式"
   ]
  },
  {
   "cell_type": "markdown",
   "id": "f3307e91-0606-4fd1-b54b-508a1d8e0aaa",
   "metadata": {},
   "source": [
    "关联的数据项表示如下：\n",
    "* 第一行：一般作为分子名字，如 Levetiracetam\n",
    "* 第二行：注释，ChemDraw06111413562D\n",
    "* 第三行：一般是空行\n",
    "* 第四行：是原子个数 键的个数等的起始行。\n",
    "* M  END所在行结束原子个数 键的个数等信息。 接着就是\n",
    "  - 属性1 属性1值\n",
    "  - 空行\n",
    "  - 属性2 属性2值\n",
    "  - 空行 (以四个美元符号结束一个分子的信息存储。)"
   ]
  },
  {
   "cell_type": "markdown",
   "id": "9c525475-cab1-48d4-b4c8-2baa05cfa71c",
   "metadata": {},
   "source": [
    "# 2.举例说明"
   ]
  },
  {
   "cell_type": "markdown",
   "id": "2a8d624d-baeb-4644-b998-364ca6bb4c6e",
   "metadata": {},
   "source": [
    "使用C3H4O3丙酮酸为例\n",
    "\n",
    "数据文件：C3H4O3.sdf\n",
    "\n",
    "从DrugBank网站下载,截取其中DB00119的相关信息,即C3H4O3.sdf\n",
    "\n",
    "https://go.drugbank.com/releases/5-1-11/downloads/all-structures"
   ]
  },
  {
   "cell_type": "markdown",
   "id": "965bc4e1-38c7-43ba-baf3-c67f73ef2fd2",
   "metadata": {},
   "source": [
    "![C3H4O3](../data/image/C3H4O3sdf.png)\n",
    "![C3H4O3end](../data/image/C3H4O3sdfend.png)"
   ]
  },
  {
   "cell_type": "markdown",
   "id": "3c29fc98-70a2-45a4-a35b-5048abe91262",
   "metadata": {},
   "source": [
    "## 标题区（header block）\n",
    "与molfile文件类似，sdf文件也包含一个三行的标题区。标题区内可能包含以下内容：\n",
    "\n",
    "1.分子名字\n",
    "\n",
    "2.生成分子结构的软件信息\n",
    "\n",
    "3.注释\n",
    "\n",
    "当然，标题区也可以为空行（除名字外）\n",
    "\n",
    "这个例子中只给出了生成分子结构的软件信息"
   ]
  },
  {
   "cell_type": "markdown",
   "id": "7b088be6-e415-4896-bcb5-b331aea6ed35",
   "metadata": {},
   "source": [
    "## 数量行（counts line block）\n",
    "\n",
    "该行由12个固定长度的字段组成，前11个字段长度均为3个字符，最后一个字段长度为6个字符。前两个字段最重要，给出了化合物中的原子数与键数：\n",
    "\n",
    "该化合物有6个原子，5个键。H原子不被包含在内"
   ]
  },
  {
   "cell_type": "markdown",
   "id": "1f9c3f40-4b2c-4197-909b-ab4494f14d2f",
   "metadata": {},
   "source": [
    "## 原子区（Atoms block）\n",
    "数量行下面为原子区\n",
    "前三个字段，长度均为10个字符，描述原子的X, Y, Z坐标，然后是长度为3个字符的元素符号字段（示例为氧O），随后为长度为2个字符的字段描述原子与同位素的质量差异（值介于-3到+4之间，除M··ISO性质外）"
   ]
  },
  {
   "cell_type": "markdown",
   "id": "200e1a18-6f94-4ba5-a1ef-4c0e2396b0f8",
   "metadata": {},
   "source": [
    "## 键区（Bonds block）\n",
    "前两个字段为与键相关原子索引，第三个字段定义了键的类型，第四个字段为键的立体性质"
   ]
  },
  {
   "cell_type": "markdown",
   "id": "d0b0c816-886f-4c5c-bc82-af8446850225",
   "metadata": {},
   "source": [
    "![bond](../data/image/bond.png)"
   ]
  },
  {
   "cell_type": "markdown",
   "id": "1641c921-4a07-4945-8fe4-7a4631884efe",
   "metadata": {},
   "source": [
    "1 6 1 0 0 0 \n",
    "\n",
    "上述示例含义：在原子1和原子6之间存在一个单键，无立体性质\n",
    "\n",
    "后面还有3个长度均为3字符的字段，很少用到，可以为空"
   ]
  },
  {
   "cell_type": "markdown",
   "id": "cb41e2a1-0dee-4be9-bee1-0608bc832072",
   "metadata": {},
   "source": [
    "## 终止符（Terminator）"
   ]
  },
  {
   "cell_type": "markdown",
   "id": "4375bed3-3455-4162-a410-381895d3bd75",
   "metadata": {},
   "source": [
    "M··END属性不可缺少，必须位于其他性质之后"
   ]
  },
  {
   "cell_type": "markdown",
   "id": "4fa04760-580d-4015-8415-6473ded721a9",
   "metadata": {},
   "source": [
    "## 数据字段（Data fields）"
   ]
  },
  {
   "cell_type": "markdown",
   "id": "b1036a02-118e-4244-aabd-15a1a11e5005",
   "metadata": {},
   "source": [
    "有关化合物的各种自定义元数据可以存储在数据字段中。 数据字段以标头开头，标头以>开头。在同一行上，数据字段的名称用尖括号括起来。 标题行也可以包含其他文本，但通常会忽略它"
   ]
  },
  {
   "cell_type": "markdown",
   "id": "c71292c5-e53d-482c-9298-d97949cd8102",
   "metadata": {},
   "source": [
    "## SDF分隔符（SDF separator）"
   ]
  },
  {
   "cell_type": "markdown",
   "id": "03479c51-a821-4db4-924e-211da03a9ec2",
   "metadata": {},
   "source": [
    "位于每个记录（分子）的最后一行，只包含4个$。该分隔符在molfiles中并不需要"
   ]
  },
  {
   "cell_type": "markdown",
   "id": "08d34e97-2715-4579-9d3b-5f10a7ffff84",
   "metadata": {},
   "source": [
    "# 参考资料"
   ]
  },
  {
   "cell_type": "markdown",
   "id": "bc36079e-ad71-42eb-810c-f8bb3ad4705c",
   "metadata": {},
   "source": [
    "[What is the correct format for compounds in SDF or MOL files? - Progenesis SDF Studio (nonlinear.com)](https://www.nonlinear.com/progenesis/sdf-studio/v0.9/faq/sdf-file-format-guidance.aspx)\n",
    "\n",
    "[2.5: Structural Data Files - Chemistry LibreTexts](https://chem.libretexts.org/Courses/Intercollegiate_Courses/Cheminformatics/02%3A_Representing_Small_Molecules_on_Computers/2.05%3A_Structural_Data_Files)\n",
    "\n",
    "[SDF Format Specification (herongyang.com)](https://www.herongyang.com/Molecule/SDF-Format-Specification.html)"
   ]
  }
 ],
 "metadata": {
  "kernelspec": {
   "display_name": "Python 3 (ipykernel)",
   "language": "python",
   "name": "python3"
  },
  "language_info": {
   "codemirror_mode": {
    "name": "ipython",
    "version": 3
   },
   "file_extension": ".py",
   "mimetype": "text/x-python",
   "name": "python",
   "nbconvert_exporter": "python",
   "pygments_lexer": "ipython3",
   "version": "3.10.10"
  }
 },
 "nbformat": 4,
 "nbformat_minor": 5
}
