{
 "cells": [
  {
   "cell_type": "markdown",
   "id": "f7b26b6e-656f-4942-a03e-9da53ea54f89",
   "metadata": {},
   "source": [
    "现在使用同一种化合物的SDF与SMILES进行计算与比较\n",
    "\n",
    "N-乙基乙酰胺\n",
    "\n",
    "https://pubchem.ncbi.nlm.nih.gov/#query=CCNC(C)%3DO"
   ]
  },
  {
   "cell_type": "code",
   "execution_count": 1,
   "id": "e1103dce-ab68-44fb-91af-5d086a42fbe9",
   "metadata": {},
   "outputs": [],
   "source": [
    "from rdkit import Chem, DataStructs\n",
    "from rdkit.Chem import AllChem"
   ]
  },
  {
   "cell_type": "markdown",
   "id": "e059fc59-7ae0-4dbc-8312-bf0887df7d96",
   "metadata": {},
   "source": [
    "# 使用SDF进行计算化学相似性"
   ]
  },
  {
   "cell_type": "code",
   "execution_count": 21,
   "id": "ddd34569-dd3a-462c-bcaa-822ac391be7e",
   "metadata": {},
   "outputs": [
    {
     "name": "stdout",
     "output_type": "stream",
     "text": [
      "48\n",
      "100001010111000000000110100001101100000000000000\n"
     ]
    }
   ],
   "source": [
    "file_name = '../data/CCNC(C)=O.sdf'\n",
    "num = 48\n",
    "# Load SDF file and obtain molecule objects\n",
    "supp = Chem.SDMolSupplier(file_name)\n",
    "molecules = [mol for mol in supp if mol is not None]\n",
    "\n",
    "# Compute Morgan fingerprints for each molecule\n",
    "fingerprints = [AllChem.GetMorganFingerprintAsBitVect(mol, 2, nBits = num) for mol in molecules]\n",
    "\n",
    "# Print the number of bits and the bit string representation for each fingerprint\n",
    "for fp in fingerprints:\n",
    "    print(fp.GetNumBits())\n",
    "    print(fp.ToBitString())"
   ]
  },
  {
   "cell_type": "markdown",
   "id": "3677696d-cfff-4e3a-9449-94380c879865",
   "metadata": {},
   "source": [
    "# 使用SMILES进行计算化学相似性"
   ]
  },
  {
   "cell_type": "code",
   "execution_count": 22,
   "id": "749a0f0e-d9a2-4a6a-9057-77c8d955f5b2",
   "metadata": {},
   "outputs": [
    {
     "name": "stdout",
     "output_type": "stream",
     "text": [
      "48\n",
      "100001010111000000000110100001101100000000000000\n"
     ]
    }
   ],
   "source": [
    "smiles = 'CCNC(C)=O'\n",
    "ms = Chem.MolFromSmiles(smiles)\n",
    "mfp = AllChem.GetMorganFingerprintAsBitVect(ms, 2, nBits = num)\n",
    "print(mfp.GetNumBits())\n",
    "print(mfp.ToBitString())"
   ]
  },
  {
   "cell_type": "code",
   "execution_count": 23,
   "id": "ed27bb19-5a3e-4c15-844d-713ec518db36",
   "metadata": {},
   "outputs": [
    {
     "name": "stdout",
     "output_type": "stream",
     "text": [
      "Number of differing bits: 0\n"
     ]
    }
   ],
   "source": [
    "def count_differing_bits(str1, str2):\n",
    "    if len(str1) != len(str2):\n",
    "        raise ValueError(\"Strings must have the same length\")\n",
    "\n",
    "    count = 0\n",
    "    for bit1, bit2 in zip(str1, str2):\n",
    "        if bit1 != bit2:\n",
    "            count += 1\n",
    "\n",
    "    return count\n",
    "\n",
    "# Example usage:\n",
    "diff_bits = count_differing_bits(fp.ToBitString(), mfp.ToBitString())\n",
    "print(\"Number of differing bits:\", diff_bits)"
   ]
  },
  {
   "cell_type": "markdown",
   "id": "5ff6a134-e1a7-41e6-9476-6f868ebfdf0f",
   "metadata": {},
   "source": [
    "# ECFP 与FCFP不同之处\n",
    "\n",
    "ECFP（Extended Connectivity Fingerprints）和FCFP（Functional Class Fingerprints）是两种常用的分子指纹类型，它们在特征提取和描述化学结构方面有所不同：\n",
    "\n",
    "- 连接性：\n",
    "\n",
    "ECFP：ECFP是一种连接性指纹，它基于原子之间的连接关系来描述分子的结构。它考虑了原子之间的相邻关系，通常通过迭代地将相邻原子的哈希编码进行合并来生成指纹。\n",
    "FCFP：FCFP也是一种连接性指纹，但它更加灵活，不仅考虑了原子之间的连接关系，还考虑了功能类别（functional class）之间的相互作用。功能类别是一组原子的集合，具有相似的化学性质，因此FCFP更具有化学信息的含义。\n",
    "- 原子的表示：\n",
    "\n",
    "ECFP：在ECFP中，原子通常以其哈希编码作为指纹的一部分，但**不考虑其具体的化学性质或功能**。\n",
    "FCFP：在FCFP中，原子除了考虑其哈希编码外，还**根据其所属的功能类别进行编码。这样可以更好地捕捉分子的化学特征**，因为功能类别通常反映了原子在分子中的特定角色或功能。\n",
    "- 指纹长度：\n",
    "\n",
    "ECFP：ECFP指纹的长度通常由指定的半径和比特数确定。较大的半径和比特数通常会产生更大、更具区分性的指纹。\n",
    "FCFP：FCFP指纹的长度也由指定的参数（例如半径和比特数）决定，但由于同时**考虑了功能类别**，因此在相同的指纹长度下，它**可能会比ECFP包含更多的化学信息**。\n",
    "- 应用场景：\n",
    "\n",
    "ECFP：ECFP常用于**分子的相似性搜索**、药物筛选和QSAR（定量结构-活性关系）建模等任务。\n",
    "FCFP：FCFP通常用于**与生物活性相关**的任务，如蛋白质-小分子相互作用预测、**药物目标预测和药物相似性分析**等。\n",
    "总的来说，ECFP和FCFP在原理和应用方面有所不同，选择合适的指纹类型取决于具体的研究目标和化学任务。"
   ]
  },
  {
   "cell_type": "markdown",
   "id": "c2224db4-3c48-423f-a329-ce230e1e2d8c",
   "metadata": {},
   "source": [
    "<u>*建议使用FCFP*</u>"
   ]
  }
 ],
 "metadata": {
  "kernelspec": {
   "display_name": "Python 3 (ipykernel)",
   "language": "python",
   "name": "python3"
  },
  "language_info": {
   "codemirror_mode": {
    "name": "ipython",
    "version": 3
   },
   "file_extension": ".py",
   "mimetype": "text/x-python",
   "name": "python",
   "nbconvert_exporter": "python",
   "pygments_lexer": "ipython3",
   "version": "3.10.10"
  }
 },
 "nbformat": 4,
 "nbformat_minor": 5
}
